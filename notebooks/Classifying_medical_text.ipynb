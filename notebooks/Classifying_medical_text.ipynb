{
  "cells": [
    {
      "cell_type": "markdown",
      "id": "b010f1b8",
      "metadata": {
        "id": "b010f1b8"
      },
      "source": [
        "## Classifying Medical Text with PyTorch\n",
        "\n",
        "This project explores building deep learning models in PyTorch to classify health‑related medical text into the correct focus area.\n",
        "We use a subset of the [MedQuAD dataset](https://github.com/abachaa/MedQuAD/tree/master) from this [research paper](https://arxiv.org/pdf/1901.08079), containing real‑world question‑answer pairs from trusted health sources such as the NIH and MedlinePlus. Each answer is linked to a focus area that defines its broader medical topic.\n",
        "\n",
        "**Motivation**:\n",
        "Manual labeling of medical information in clinical settings is tedious, time‑consuming, and costly. Our aim is to develop an automated AI system to help medical professionals categorize and organize large volumes of medical information quickly and accurately.\n",
        "\n",
        "**Models**\n",
        "- Feedforward Neural Network\n",
        "- Baseline model.\n",
        "- Fast to train, low computational cost.\n",
        "- Fine‑tuned PubMedBERT\n",
        "- Pre‑trained on biomedical literature.\n",
        "- Uses attention mechanisms for deeper language understanding in the medical domain.\n",
        "\n",
        "**Dataset**: MedQuAD Subset – Column Summary\n",
        "- **question**: Patient‑style medical question.\n",
        "- **answer**: Verified response from a trusted health organization.\n",
        "- **source**: Official origin of the QA pair.\n",
        "- **focus_area**: Broad medical topic category.\n",
        "\n",
        "`Disclaimer`:\n",
        "Models are trained on a limited dataset and may not generalize to broader populations or clinical use. They are not intended for medical diagnosis, prediction, or management of health outcomes. All medical decisions should be made with a qualified healthcare professional.\n",
        "\n",
        "\n",
        "\n",
        "\n"
      ]
    },
    {
      "cell_type": "code",
      "execution_count": 4,
      "id": "k1Mj-eFwQhbf",
      "metadata": {
        "colab": {
          "base_uri": "https://localhost:8080/"
        },
        "id": "k1Mj-eFwQhbf",
        "outputId": "4ff81688-4931-4fc7-e395-832de4da02ad"
      },
      "outputs": [
        {
          "name": "stdout",
          "output_type": "stream",
          "text": [
            "Drive already mounted at /content/drive; to attempt to forcibly remount, call drive.mount(\"/content/drive\", force_remount=True).\n"
          ]
        }
      ],
      "source": [
        "from google.colab import drive\n",
        "drive.mount('/content/drive')"
      ]
    },
    {
      "cell_type": "markdown",
      "id": "5b822b03",
      "metadata": {
        "id": "5b822b03"
      },
      "source": [
        "## **Importing required Libraries**"
      ]
    },
    {
      "cell_type": "code",
      "execution_count": 5,
      "id": "9cd59cd7",
      "metadata": {
        "id": "9cd59cd7"
      },
      "outputs": [],
      "source": [
        "import numpy as np\n",
        "import matplotlib.pyplot as plt\n",
        "import pandas as pd\n",
        "from transformers import logging\n",
        "logging.set_verbosity_error()\n",
        "import seaborn as sns\n",
        "sns.set(style=\"whitegrid\", palette='Paired')\n",
        "%matplotlib inline"
      ]
    },
    {
      "cell_type": "code",
      "execution_count": 6,
      "id": "291e27ef",
      "metadata": {
        "colab": {
          "base_uri": "https://localhost:8080/",
          "height": 206
        },
        "id": "291e27ef",
        "outputId": "f2ef53fb-faf2-40f0-f1c2-e758dca72fe7"
      },
      "outputs": [
        {
          "data": {
            "application/vnd.google.colaboratory.intrinsic+json": {
              "summary": "{\n  \"name\": \"medquad_df\",\n  \"rows\": 16412,\n  \"fields\": [\n    {\n      \"column\": \"question\",\n      \"properties\": {\n        \"dtype\": \"string\",\n        \"num_unique_values\": 14984,\n        \"samples\": [\n          \"How many people are affected by 8p11 myeloproliferative syndrome ?\",\n          \"What is (are) caudal regression syndrome ?\",\n          \"What is the outlook for Cephalic Disorders ?\"\n        ],\n        \"semantic_type\": \"\",\n        \"description\": \"\"\n      }\n    },\n    {\n      \"column\": \"answer\",\n      \"properties\": {\n        \"dtype\": \"string\",\n        \"num_unique_values\": 15817,\n        \"samples\": [\n          \"The prognosis depends upon the severity of symptoms. Children with early-onset AGS have the highest risk of death. Children with the later-onset form may be left with weakness or stiffness in the peripheral muscles and arms, weak muscles in the trunk of the body, and poor head control. Almost all children with AGS have mild to severe intellectual and physical impairment.\",\n          \"Scientists don't know exactly what causes prostate cancer. They cannot explain why one man gets prostate cancer and another does not. However, they have been able to identify some risk factors that are associated with the disease. A risk factor is anything that increases your chances of getting a disease. Age Age is the most important risk factor for prostate cancer. The disease is extremely rare in men under age 40, but the risk increases greatly with age. More than 60 percent of cases are diagnosed in men over age 65. The average age at the time of diagnosis is 65. Race Race is another major risk factor. In the United States, this disease is much more common in African American men than in any other group of men. It is least common in Asian and American Indian men. Family History A man's risk for developing prostate cancer is higher if his father or brother has had the disease. Other Risk Factors Scientists have wondered whether obesity, lack of exercise, smoking, radiation exposure, might increase risk. But at this time, there is no firm evidence that these factors contribute to an increased risk.\",\n          \"The retina is a layer of tissue in the back of your eye that senses light and sends images to your brain. It provides the sharp, central vision needed for reading, driving, and seeing fine detail. A retinal detachment lifts or pulls the retina from its normal position. It can occur at any age, but it is more common in people over age 40. It affects men more than women and whites more than African Americans. A retinal detachment is also more likely to occur in people who       - Are extremely nearsighted    - Have had a retinal detachment in the other eye    - Have a family history of retinal detachment    - Have had cataract surgery    - Have other eye diseases or disorders    - Have had an eye injury       Symptoms include an increase in the number of floaters, which are little \\\"cobwebs\\\" or specks that float about in your field of vision, and/or light flashes in the eye. It may also seem like there is a \\\"curtain\\\" over your field of vision.    A retinal detachment is a medical emergency. If not promptly treated, it can cause permanent vision loss. If you have any symptoms, see an eye care professional immediately. Treatment includes different types of surgery.    NIH: National Eye Institute\"\n        ],\n        \"semantic_type\": \"\",\n        \"description\": \"\"\n      }\n    },\n    {\n      \"column\": \"source\",\n      \"properties\": {\n        \"dtype\": \"category\",\n        \"num_unique_values\": 9,\n        \"samples\": [\n          \"GHR\",\n          \"CancerGov\",\n          \"NHLBI\"\n        ],\n        \"semantic_type\": \"\",\n        \"description\": \"\"\n      }\n    },\n    {\n      \"column\": \"focus_area\",\n      \"properties\": {\n        \"dtype\": \"category\",\n        \"num_unique_values\": 5126,\n        \"samples\": [\n          \"Adams-Oliver syndrome\",\n          \"Occupational Health\",\n          \"What I need to know about Diverticular Disease\"\n        ],\n        \"semantic_type\": \"\",\n        \"description\": \"\"\n      }\n    }\n  ]\n}",
              "type": "dataframe",
              "variable_name": "medquad_df"
            },
            "text/html": [
              "\n",
              "  <div id=\"df-1d049085-c7b7-481b-9ef0-4fbb43763a59\" class=\"colab-df-container\">\n",
              "    <div>\n",
              "<style scoped>\n",
              "    .dataframe tbody tr th:only-of-type {\n",
              "        vertical-align: middle;\n",
              "    }\n",
              "\n",
              "    .dataframe tbody tr th {\n",
              "        vertical-align: top;\n",
              "    }\n",
              "\n",
              "    .dataframe thead th {\n",
              "        text-align: right;\n",
              "    }\n",
              "</style>\n",
              "<table border=\"1\" class=\"dataframe\">\n",
              "  <thead>\n",
              "    <tr style=\"text-align: right;\">\n",
              "      <th></th>\n",
              "      <th>question</th>\n",
              "      <th>answer</th>\n",
              "      <th>source</th>\n",
              "      <th>focus_area</th>\n",
              "    </tr>\n",
              "  </thead>\n",
              "  <tbody>\n",
              "    <tr>\n",
              "      <th>0</th>\n",
              "      <td>What is (are) Glaucoma ?</td>\n",
              "      <td>Glaucoma is a group of diseases that can damag...</td>\n",
              "      <td>NIHSeniorHealth</td>\n",
              "      <td>Glaucoma</td>\n",
              "    </tr>\n",
              "    <tr>\n",
              "      <th>1</th>\n",
              "      <td>What causes Glaucoma ?</td>\n",
              "      <td>Nearly 2.7 million people have glaucoma, a lea...</td>\n",
              "      <td>NIHSeniorHealth</td>\n",
              "      <td>Glaucoma</td>\n",
              "    </tr>\n",
              "    <tr>\n",
              "      <th>2</th>\n",
              "      <td>What are the symptoms of Glaucoma ?</td>\n",
              "      <td>Symptoms of Glaucoma  Glaucoma can develop in ...</td>\n",
              "      <td>NIHSeniorHealth</td>\n",
              "      <td>Glaucoma</td>\n",
              "    </tr>\n",
              "    <tr>\n",
              "      <th>3</th>\n",
              "      <td>What are the treatments for Glaucoma ?</td>\n",
              "      <td>Although open-angle glaucoma cannot be cured, ...</td>\n",
              "      <td>NIHSeniorHealth</td>\n",
              "      <td>Glaucoma</td>\n",
              "    </tr>\n",
              "    <tr>\n",
              "      <th>4</th>\n",
              "      <td>What is (are) Glaucoma ?</td>\n",
              "      <td>Glaucoma is a group of diseases that can damag...</td>\n",
              "      <td>NIHSeniorHealth</td>\n",
              "      <td>Glaucoma</td>\n",
              "    </tr>\n",
              "  </tbody>\n",
              "</table>\n",
              "</div>\n",
              "    <div class=\"colab-df-buttons\">\n",
              "\n",
              "  <div class=\"colab-df-container\">\n",
              "    <button class=\"colab-df-convert\" onclick=\"convertToInteractive('df-1d049085-c7b7-481b-9ef0-4fbb43763a59')\"\n",
              "            title=\"Convert this dataframe to an interactive table.\"\n",
              "            style=\"display:none;\">\n",
              "\n",
              "  <svg xmlns=\"http://www.w3.org/2000/svg\" height=\"24px\" viewBox=\"0 -960 960 960\">\n",
              "    <path d=\"M120-120v-720h720v720H120Zm60-500h600v-160H180v160Zm220 220h160v-160H400v160Zm0 220h160v-160H400v160ZM180-400h160v-160H180v160Zm440 0h160v-160H620v160ZM180-180h160v-160H180v160Zm440 0h160v-160H620v160Z\"/>\n",
              "  </svg>\n",
              "    </button>\n",
              "\n",
              "  <style>\n",
              "    .colab-df-container {\n",
              "      display:flex;\n",
              "      gap: 12px;\n",
              "    }\n",
              "\n",
              "    .colab-df-convert {\n",
              "      background-color: #E8F0FE;\n",
              "      border: none;\n",
              "      border-radius: 50%;\n",
              "      cursor: pointer;\n",
              "      display: none;\n",
              "      fill: #1967D2;\n",
              "      height: 32px;\n",
              "      padding: 0 0 0 0;\n",
              "      width: 32px;\n",
              "    }\n",
              "\n",
              "    .colab-df-convert:hover {\n",
              "      background-color: #E2EBFA;\n",
              "      box-shadow: 0px 1px 2px rgba(60, 64, 67, 0.3), 0px 1px 3px 1px rgba(60, 64, 67, 0.15);\n",
              "      fill: #174EA6;\n",
              "    }\n",
              "\n",
              "    .colab-df-buttons div {\n",
              "      margin-bottom: 4px;\n",
              "    }\n",
              "\n",
              "    [theme=dark] .colab-df-convert {\n",
              "      background-color: #3B4455;\n",
              "      fill: #D2E3FC;\n",
              "    }\n",
              "\n",
              "    [theme=dark] .colab-df-convert:hover {\n",
              "      background-color: #434B5C;\n",
              "      box-shadow: 0px 1px 3px 1px rgba(0, 0, 0, 0.15);\n",
              "      filter: drop-shadow(0px 1px 2px rgba(0, 0, 0, 0.3));\n",
              "      fill: #FFFFFF;\n",
              "    }\n",
              "  </style>\n",
              "\n",
              "    <script>\n",
              "      const buttonEl =\n",
              "        document.querySelector('#df-1d049085-c7b7-481b-9ef0-4fbb43763a59 button.colab-df-convert');\n",
              "      buttonEl.style.display =\n",
              "        google.colab.kernel.accessAllowed ? 'block' : 'none';\n",
              "\n",
              "      async function convertToInteractive(key) {\n",
              "        const element = document.querySelector('#df-1d049085-c7b7-481b-9ef0-4fbb43763a59');\n",
              "        const dataTable =\n",
              "          await google.colab.kernel.invokeFunction('convertToInteractive',\n",
              "                                                    [key], {});\n",
              "        if (!dataTable) return;\n",
              "\n",
              "        const docLinkHtml = 'Like what you see? Visit the ' +\n",
              "          '<a target=\"_blank\" href=https://colab.research.google.com/notebooks/data_table.ipynb>data table notebook</a>'\n",
              "          + ' to learn more about interactive tables.';\n",
              "        element.innerHTML = '';\n",
              "        dataTable['output_type'] = 'display_data';\n",
              "        await google.colab.output.renderOutput(dataTable, element);\n",
              "        const docLink = document.createElement('div');\n",
              "        docLink.innerHTML = docLinkHtml;\n",
              "        element.appendChild(docLink);\n",
              "      }\n",
              "    </script>\n",
              "  </div>\n",
              "\n",
              "\n",
              "    <div id=\"df-417fc386-b180-4800-a381-a3a4df5f11d4\">\n",
              "      <button class=\"colab-df-quickchart\" onclick=\"quickchart('df-417fc386-b180-4800-a381-a3a4df5f11d4')\"\n",
              "                title=\"Suggest charts\"\n",
              "                style=\"display:none;\">\n",
              "\n",
              "<svg xmlns=\"http://www.w3.org/2000/svg\" height=\"24px\"viewBox=\"0 0 24 24\"\n",
              "     width=\"24px\">\n",
              "    <g>\n",
              "        <path d=\"M19 3H5c-1.1 0-2 .9-2 2v14c0 1.1.9 2 2 2h14c1.1 0 2-.9 2-2V5c0-1.1-.9-2-2-2zM9 17H7v-7h2v7zm4 0h-2V7h2v10zm4 0h-2v-4h2v4z\"/>\n",
              "    </g>\n",
              "</svg>\n",
              "      </button>\n",
              "\n",
              "<style>\n",
              "  .colab-df-quickchart {\n",
              "      --bg-color: #E8F0FE;\n",
              "      --fill-color: #1967D2;\n",
              "      --hover-bg-color: #E2EBFA;\n",
              "      --hover-fill-color: #174EA6;\n",
              "      --disabled-fill-color: #AAA;\n",
              "      --disabled-bg-color: #DDD;\n",
              "  }\n",
              "\n",
              "  [theme=dark] .colab-df-quickchart {\n",
              "      --bg-color: #3B4455;\n",
              "      --fill-color: #D2E3FC;\n",
              "      --hover-bg-color: #434B5C;\n",
              "      --hover-fill-color: #FFFFFF;\n",
              "      --disabled-bg-color: #3B4455;\n",
              "      --disabled-fill-color: #666;\n",
              "  }\n",
              "\n",
              "  .colab-df-quickchart {\n",
              "    background-color: var(--bg-color);\n",
              "    border: none;\n",
              "    border-radius: 50%;\n",
              "    cursor: pointer;\n",
              "    display: none;\n",
              "    fill: var(--fill-color);\n",
              "    height: 32px;\n",
              "    padding: 0;\n",
              "    width: 32px;\n",
              "  }\n",
              "\n",
              "  .colab-df-quickchart:hover {\n",
              "    background-color: var(--hover-bg-color);\n",
              "    box-shadow: 0 1px 2px rgba(60, 64, 67, 0.3), 0 1px 3px 1px rgba(60, 64, 67, 0.15);\n",
              "    fill: var(--button-hover-fill-color);\n",
              "  }\n",
              "\n",
              "  .colab-df-quickchart-complete:disabled,\n",
              "  .colab-df-quickchart-complete:disabled:hover {\n",
              "    background-color: var(--disabled-bg-color);\n",
              "    fill: var(--disabled-fill-color);\n",
              "    box-shadow: none;\n",
              "  }\n",
              "\n",
              "  .colab-df-spinner {\n",
              "    border: 2px solid var(--fill-color);\n",
              "    border-color: transparent;\n",
              "    border-bottom-color: var(--fill-color);\n",
              "    animation:\n",
              "      spin 1s steps(1) infinite;\n",
              "  }\n",
              "\n",
              "  @keyframes spin {\n",
              "    0% {\n",
              "      border-color: transparent;\n",
              "      border-bottom-color: var(--fill-color);\n",
              "      border-left-color: var(--fill-color);\n",
              "    }\n",
              "    20% {\n",
              "      border-color: transparent;\n",
              "      border-left-color: var(--fill-color);\n",
              "      border-top-color: var(--fill-color);\n",
              "    }\n",
              "    30% {\n",
              "      border-color: transparent;\n",
              "      border-left-color: var(--fill-color);\n",
              "      border-top-color: var(--fill-color);\n",
              "      border-right-color: var(--fill-color);\n",
              "    }\n",
              "    40% {\n",
              "      border-color: transparent;\n",
              "      border-right-color: var(--fill-color);\n",
              "      border-top-color: var(--fill-color);\n",
              "    }\n",
              "    60% {\n",
              "      border-color: transparent;\n",
              "      border-right-color: var(--fill-color);\n",
              "    }\n",
              "    80% {\n",
              "      border-color: transparent;\n",
              "      border-right-color: var(--fill-color);\n",
              "      border-bottom-color: var(--fill-color);\n",
              "    }\n",
              "    90% {\n",
              "      border-color: transparent;\n",
              "      border-bottom-color: var(--fill-color);\n",
              "    }\n",
              "  }\n",
              "</style>\n",
              "\n",
              "      <script>\n",
              "        async function quickchart(key) {\n",
              "          const quickchartButtonEl =\n",
              "            document.querySelector('#' + key + ' button');\n",
              "          quickchartButtonEl.disabled = true;  // To prevent multiple clicks.\n",
              "          quickchartButtonEl.classList.add('colab-df-spinner');\n",
              "          try {\n",
              "            const charts = await google.colab.kernel.invokeFunction(\n",
              "                'suggestCharts', [key], {});\n",
              "          } catch (error) {\n",
              "            console.error('Error during call to suggestCharts:', error);\n",
              "          }\n",
              "          quickchartButtonEl.classList.remove('colab-df-spinner');\n",
              "          quickchartButtonEl.classList.add('colab-df-quickchart-complete');\n",
              "        }\n",
              "        (() => {\n",
              "          let quickchartButtonEl =\n",
              "            document.querySelector('#df-417fc386-b180-4800-a381-a3a4df5f11d4 button');\n",
              "          quickchartButtonEl.style.display =\n",
              "            google.colab.kernel.accessAllowed ? 'block' : 'none';\n",
              "        })();\n",
              "      </script>\n",
              "    </div>\n",
              "\n",
              "    </div>\n",
              "  </div>\n"
            ],
            "text/plain": [
              "                                 question  \\\n",
              "0                What is (are) Glaucoma ?   \n",
              "1                  What causes Glaucoma ?   \n",
              "2     What are the symptoms of Glaucoma ?   \n",
              "3  What are the treatments for Glaucoma ?   \n",
              "4                What is (are) Glaucoma ?   \n",
              "\n",
              "                                              answer           source  \\\n",
              "0  Glaucoma is a group of diseases that can damag...  NIHSeniorHealth   \n",
              "1  Nearly 2.7 million people have glaucoma, a lea...  NIHSeniorHealth   \n",
              "2  Symptoms of Glaucoma  Glaucoma can develop in ...  NIHSeniorHealth   \n",
              "3  Although open-angle glaucoma cannot be cured, ...  NIHSeniorHealth   \n",
              "4  Glaucoma is a group of diseases that can damag...  NIHSeniorHealth   \n",
              "\n",
              "  focus_area  \n",
              "0   Glaucoma  \n",
              "1   Glaucoma  \n",
              "2   Glaucoma  \n",
              "3   Glaucoma  \n",
              "4   Glaucoma  "
            ]
          },
          "execution_count": 6,
          "metadata": {},
          "output_type": "execute_result"
        }
      ],
      "source": [
        "medquad_df = pd.read_csv('drive/MyDrive/PyTorch_Capstone/datasets/medquad.csv')\n",
        "medquad_df.head()"
      ]
    },
    {
      "cell_type": "code",
      "execution_count": 7,
      "id": "afda6459",
      "metadata": {
        "colab": {
          "base_uri": "https://localhost:8080/"
        },
        "id": "afda6459",
        "outputId": "d26909c0-1ce3-4885-92fd-81fb42cc0c07"
      },
      "outputs": [
        {
          "name": "stdout",
          "output_type": "stream",
          "text": [
            "<class 'pandas.core.frame.DataFrame'>\n",
            "RangeIndex: 16412 entries, 0 to 16411\n",
            "Data columns (total 4 columns):\n",
            " #   Column      Non-Null Count  Dtype \n",
            "---  ------      --------------  ----- \n",
            " 0   question    16412 non-null  object\n",
            " 1   answer      16407 non-null  object\n",
            " 2   source      16412 non-null  object\n",
            " 3   focus_area  16398 non-null  object\n",
            "dtypes: object(4)\n",
            "memory usage: 513.0+ KB\n"
          ]
        }
      ],
      "source": [
        "medquad_df.info()"
      ]
    },
    {
      "cell_type": "markdown",
      "id": "0c6a85e0",
      "metadata": {
        "id": "0c6a85e0"
      },
      "source": [
        "We observe from the information that there are 16,412 question-answer pairs in the dataset. But there are 5 answers missing or null and 14 missing or null focus area."
      ]
    },
    {
      "cell_type": "markdown",
      "id": "f7f428f6",
      "metadata": {
        "id": "f7f428f6"
      },
      "source": [
        "## **Data Exploration and Visualization**"
      ]
    },
    {
      "cell_type": "markdown",
      "id": "815fea5f",
      "metadata": {
        "id": "815fea5f"
      },
      "source": [
        "We will now explore and visualize the data in our dataset."
      ]
    },
    {
      "cell_type": "markdown",
      "id": "8a2a31a2",
      "metadata": {
        "id": "8a2a31a2"
      },
      "source": [
        "**Focus Area**"
      ]
    },
    {
      "cell_type": "code",
      "execution_count": 8,
      "id": "edaea2eb",
      "metadata": {
        "colab": {
          "base_uri": "https://localhost:8080/"
        },
        "id": "edaea2eb",
        "outputId": "8f3e86a1-3d47-490c-df17-f7a53eeb7d7b"
      },
      "outputs": [
        {
          "data": {
            "text/plain": [
              "5126"
            ]
          },
          "execution_count": 8,
          "metadata": {},
          "output_type": "execute_result"
        }
      ],
      "source": [
        "# Count the number of unique focus areas\n",
        "medquad_df['focus_area'].nunique()"
      ]
    },
    {
      "cell_type": "code",
      "execution_count": 9,
      "id": "454b3590",
      "metadata": {
        "colab": {
          "base_uri": "https://localhost:8080/",
          "height": 899
        },
        "id": "454b3590",
        "outputId": "98e51354-d5cc-43c4-825b-9c54b3b2d74a"
      },
      "outputs": [
        {
          "data": {
            "text/html": [
              "<div>\n",
              "<style scoped>\n",
              "    .dataframe tbody tr th:only-of-type {\n",
              "        vertical-align: middle;\n",
              "    }\n",
              "\n",
              "    .dataframe tbody tr th {\n",
              "        vertical-align: top;\n",
              "    }\n",
              "\n",
              "    .dataframe thead th {\n",
              "        text-align: right;\n",
              "    }\n",
              "</style>\n",
              "<table border=\"1\" class=\"dataframe\">\n",
              "  <thead>\n",
              "    <tr style=\"text-align: right;\">\n",
              "      <th></th>\n",
              "      <th>count</th>\n",
              "    </tr>\n",
              "    <tr>\n",
              "      <th>focus_area</th>\n",
              "      <th></th>\n",
              "    </tr>\n",
              "  </thead>\n",
              "  <tbody>\n",
              "    <tr>\n",
              "      <th>Breast Cancer</th>\n",
              "      <td>53</td>\n",
              "    </tr>\n",
              "    <tr>\n",
              "      <th>Prostate Cancer</th>\n",
              "      <td>43</td>\n",
              "    </tr>\n",
              "    <tr>\n",
              "      <th>Stroke</th>\n",
              "      <td>35</td>\n",
              "    </tr>\n",
              "    <tr>\n",
              "      <th>Skin Cancer</th>\n",
              "      <td>34</td>\n",
              "    </tr>\n",
              "    <tr>\n",
              "      <th>Alzheimer's Disease</th>\n",
              "      <td>30</td>\n",
              "    </tr>\n",
              "    <tr>\n",
              "      <th>Colorectal Cancer</th>\n",
              "      <td>29</td>\n",
              "    </tr>\n",
              "    <tr>\n",
              "      <th>Lung Cancer</th>\n",
              "      <td>29</td>\n",
              "    </tr>\n",
              "    <tr>\n",
              "      <th>Causes of Diabetes</th>\n",
              "      <td>28</td>\n",
              "    </tr>\n",
              "    <tr>\n",
              "      <th>Heart Failure</th>\n",
              "      <td>28</td>\n",
              "    </tr>\n",
              "    <tr>\n",
              "      <th>Heart Attack</th>\n",
              "      <td>28</td>\n",
              "    </tr>\n",
              "    <tr>\n",
              "      <th>High Blood Cholesterol</th>\n",
              "      <td>28</td>\n",
              "    </tr>\n",
              "    <tr>\n",
              "      <th>High Blood Pressure</th>\n",
              "      <td>27</td>\n",
              "    </tr>\n",
              "    <tr>\n",
              "      <th>Parkinson's Disease</th>\n",
              "      <td>25</td>\n",
              "    </tr>\n",
              "    <tr>\n",
              "      <th>Leukemia</th>\n",
              "      <td>22</td>\n",
              "    </tr>\n",
              "    <tr>\n",
              "      <th>Shingles</th>\n",
              "      <td>21</td>\n",
              "    </tr>\n",
              "    <tr>\n",
              "      <th>Osteoporosis</th>\n",
              "      <td>21</td>\n",
              "    </tr>\n",
              "    <tr>\n",
              "      <th>Age-related Macular Degeneration</th>\n",
              "      <td>20</td>\n",
              "    </tr>\n",
              "    <tr>\n",
              "      <th>Hemochromatosis</th>\n",
              "      <td>20</td>\n",
              "    </tr>\n",
              "    <tr>\n",
              "      <th>Diabetes</th>\n",
              "      <td>20</td>\n",
              "    </tr>\n",
              "    <tr>\n",
              "      <th>Gum (Periodontal) Disease</th>\n",
              "      <td>19</td>\n",
              "    </tr>\n",
              "    <tr>\n",
              "      <th>Psoriasis</th>\n",
              "      <td>19</td>\n",
              "    </tr>\n",
              "    <tr>\n",
              "      <th>Diabetic Retinopathy</th>\n",
              "      <td>19</td>\n",
              "    </tr>\n",
              "    <tr>\n",
              "      <th>Kidney Disease</th>\n",
              "      <td>17</td>\n",
              "    </tr>\n",
              "    <tr>\n",
              "      <th>COPD</th>\n",
              "      <td>16</td>\n",
              "    </tr>\n",
              "    <tr>\n",
              "      <th>Cataract</th>\n",
              "      <td>16</td>\n",
              "    </tr>\n",
              "  </tbody>\n",
              "</table>\n",
              "</div><br><label><b>dtype:</b> int64</label>"
            ],
            "text/plain": [
              "focus_area\n",
              "Breast Cancer                       53\n",
              "Prostate Cancer                     43\n",
              "Stroke                              35\n",
              "Skin Cancer                         34\n",
              "Alzheimer's Disease                 30\n",
              "Colorectal Cancer                   29\n",
              "Lung Cancer                         29\n",
              "Causes of Diabetes                  28\n",
              "Heart Failure                       28\n",
              "Heart Attack                        28\n",
              "High Blood Cholesterol              28\n",
              "High Blood Pressure                 27\n",
              "Parkinson's Disease                 25\n",
              "Leukemia                            22\n",
              "Shingles                            21\n",
              "Osteoporosis                        21\n",
              "Age-related Macular Degeneration    20\n",
              "Hemochromatosis                     20\n",
              "Diabetes                            20\n",
              "Gum (Periodontal) Disease           19\n",
              "Psoriasis                           19\n",
              "Diabetic Retinopathy                19\n",
              "Kidney Disease                      17\n",
              "COPD                                16\n",
              "Cataract                            16\n",
              "Name: count, dtype: int64"
            ]
          },
          "execution_count": 9,
          "metadata": {},
          "output_type": "execute_result"
        }
      ],
      "source": [
        "# Counts of the top 20 most common focus areas\n",
        "medquad_df['focus_area'].value_counts().head(25)"
      ]
    },
    {
      "cell_type": "markdown",
      "id": "ceb6e5bb",
      "metadata": {
        "id": "ceb6e5bb"
      },
      "source": [
        "**Focus Groups**\n",
        "\n",
        "Instead of trying to classify 5,126 unique classes, we will group the top 20 most common focus areas into  broader categories (focus groups).\n",
        "\n",
        "* Cancers\n",
        "* Cardiovascular diseases\n",
        "* Metabolic and endocrine disorders\n",
        "* Neurological and cognitive disorders\n",
        "* Other age-related and immune disorders"
      ]
    },
    {
      "cell_type": "code",
      "execution_count": 10,
      "id": "4e319083",
      "metadata": {
        "colab": {
          "base_uri": "https://localhost:8080/"
        },
        "id": "4e319083",
        "outputId": "e2767b47-c283-4bb1-cf25-3da01b697167"
      },
      "outputs": [
        {
          "name": "stdout",
          "output_type": "stream",
          "text": [
            "Number of unique focus groups: 5\n"
          ]
        }
      ],
      "source": [
        "# Group the top 25 most common focus areas into 5 broader categories (focus groups)\n",
        "focus_area_map = {\n",
        "    'Cancers': ['Breast Cancer', 'Prostate Cancer', 'Skin Cancer', 'Colorectal Cancer', 'Lung Cancer', 'Leukemia'],\n",
        "    'Cardiovascular Diseases': ['Stroke', 'Heart Failure', 'Heart Attack', 'High Blood Cholesterol', 'High Blood Pressure'],\n",
        "    'Metabolic & Endocrine Disorders': ['Causes of Diabetes', 'Diabetes', 'Diabetic Retinopathy', 'Hemochromatosis', 'Kidney Disease'],\n",
        "    'Neurological & Cognitive Disorders': ['Alzheimer\\'s Disease', 'Parkinson\\'s Disease', 'Balance Problems'],\n",
        "    'Other Age-Related & Immune Disorders': ['Shingles', 'Osteoporosis', 'Age-related Macular Degeneration', 'Psoriasis', 'Gum (Peridontal) Disease', 'Dry Mouth']\n",
        "}\n",
        "\n",
        "# Create reverse mapping\n",
        "condition_to_focus_area = {\n",
        "    condition: focus_area\n",
        "    for focus_area, conditions in focus_area_map.items()\n",
        "    for condition in conditions\n",
        "}\n",
        "\n",
        "# Create new column 'focus_group' containing focus group\n",
        "medquad_df['focus_group'] = medquad_df['focus_area'].map(condition_to_focus_area)\n",
        "\n",
        "# Verify the number of unique focus groups\n",
        "n_focus_groups = medquad_df['focus_group'].nunique()\n",
        "print(\"Number of unique focus groups:\", n_focus_groups)\n"
      ]
    },
    {
      "cell_type": "markdown",
      "id": "092f1e9c",
      "metadata": {
        "id": "092f1e9c"
      },
      "source": [
        "When we created the new column `focus_group`, it returned `nan` values for rows without a focus group (corresponding to rows whose focus area was not in the top 25 most occuring).\n",
        "\n",
        "We'll use `.dropna()` to drop the rows with `nan` values."
      ]
    },
    {
      "cell_type": "code",
      "execution_count": 11,
      "id": "0037a042",
      "metadata": {
        "colab": {
          "base_uri": "https://localhost:8080/"
        },
        "id": "0037a042",
        "outputId": "519a9e1c-99bc-440a-dde0-a784f30e1c42"
      },
      "outputs": [
        {
          "name": "stdout",
          "output_type": "stream",
          "text": [
            "Shape before dropping: (16412, 5)\n",
            "Shape after dropping:  (628, 5)\n"
          ]
        }
      ],
      "source": [
        "# Dropping missing values including those without a focus group\n",
        "print(\"Shape before dropping:\", medquad_df.shape)\n",
        "medquad_df = medquad_df.dropna()\n",
        "print(\"Shape after dropping: \", medquad_df.shape)"
      ]
    },
    {
      "cell_type": "markdown",
      "id": "99edca40",
      "metadata": {
        "id": "99edca40"
      },
      "source": [
        "Let's visualize the counts within each focus group."
      ]
    },
    {
      "cell_type": "code",
      "execution_count": 12,
      "id": "68368521",
      "metadata": {
        "colab": {
          "base_uri": "https://localhost:8080/",
          "height": 1000
        },
        "id": "68368521",
        "outputId": "431a2f4c-863a-45a0-b506-f303392c1f3e"
      },
      "outputs": [
        {
          "data": {
            "image/png": "[encoded data removed]",
            "text/plain": [
              "<Figure size 640x480 with 1 Axes>"
            ]
          },
          "metadata": {},
          "output_type": "display_data"
        },
        {
          "name": "stdout",
          "output_type": "stream",
          "text": [
            "focus_group\n",
            "Cancers                                 210\n",
            "Cardiovascular Diseases                 146\n",
            "Metabolic & Endocrine Disorders         104\n",
            "Other Age-Related & Immune Disorders     97\n",
            "Neurological & Cognitive Disorders       71\n",
            "Name: count, dtype: int64\n",
            "focus_group\n",
            "Cancers                                 0.334395\n",
            "Cardiovascular Diseases                 0.232484\n",
            "Metabolic & Endocrine Disorders         0.165605\n",
            "Other Age-Related & Immune Disorders    0.154459\n",
            "Neurological & Cognitive Disorders      0.113057\n",
            "Name: proportion, dtype: float64\n"
          ]
        }
      ],
      "source": [
        "# Plot focus group counts\n",
        "sns.countplot(x='focus_group', data=medquad_df, hue='focus_group')\n",
        "plt.title('Focus Group Counts')\n",
        "plt.xticks(rotation=90)\n",
        "plt.show()\n",
        "\n",
        "print(medquad_df['focus_group'].value_counts(0))\n",
        "print(medquad_df['focus_group'].value_counts(1))"
      ]
    },
    {
      "cell_type": "markdown",
      "id": "9d803b31",
      "metadata": {
        "id": "9d803b31"
      },
      "source": [
        "**Answer Training Text**\n",
        "\n",
        "Now we will calculate the descriptive statistics for the text lengths in the `answer` column, which will serve as the training texts."
      ]
    },
    {
      "cell_type": "code",
      "execution_count": 13,
      "id": "e4720b3c",
      "metadata": {
        "colab": {
          "base_uri": "https://localhost:8080/",
          "height": 300
        },
        "id": "e4720b3c",
        "outputId": "67f98e72-ab63-42bd-8b74-621a18c03d8e"
      },
      "outputs": [
        {
          "data": {
            "application/vnd.google.colaboratory.intrinsic+json": {
              "summary": "{\n  \"name\": \"answer_length_stats\",\n  \"rows\": 8,\n  \"fields\": [\n    {\n      \"column\": \"answer_char_length\",\n      \"properties\": {\n        \"dtype\": \"number\",\n        \"std\": 9827.331276268196,\n        \"min\": 88.0,\n        \"max\": 29046.0,\n        \"num_unique_values\": 8,\n        \"samples\": [\n          2108.4745222929937,\n          1081.0,\n          628.0\n        ],\n        \"semantic_type\": \"\",\n        \"description\": \"\"\n      }\n    },\n    {\n      \"column\": \"answer_word_count\",\n      \"properties\": {\n        \"dtype\": \"number\",\n        \"std\": 1423.567861866511,\n        \"min\": 10.0,\n        \"max\": 4281.0,\n        \"num_unique_values\": 8,\n        \"samples\": [\n          334.0111464968153,\n          173.0,\n          628.0\n        ],\n        \"semantic_type\": \"\",\n        \"description\": \"\"\n      }\n    }\n  ]\n}",
              "type": "dataframe",
              "variable_name": "answer_length_stats"
            },
            "text/html": [
              "\n",
              "  <div id=\"df-f6965746-a77e-45a2-9f05-94cb0499495c\" class=\"colab-df-container\">\n",
              "    <div>\n",
              "<style scoped>\n",
              "    .dataframe tbody tr th:only-of-type {\n",
              "        vertical-align: middle;\n",
              "    }\n",
              "\n",
              "    .dataframe tbody tr th {\n",
              "        vertical-align: top;\n",
              "    }\n",
              "\n",
              "    .dataframe thead th {\n",
              "        text-align: right;\n",
              "    }\n",
              "</style>\n",
              "<table border=\"1\" class=\"dataframe\">\n",
              "  <thead>\n",
              "    <tr style=\"text-align: right;\">\n",
              "      <th></th>\n",
              "      <th>answer_char_length</th>\n",
              "      <th>answer_word_count</th>\n",
              "    </tr>\n",
              "  </thead>\n",
              "  <tbody>\n",
              "    <tr>\n",
              "      <th>count</th>\n",
              "      <td>628.000000</td>\n",
              "      <td>628.000000</td>\n",
              "    </tr>\n",
              "    <tr>\n",
              "      <th>mean</th>\n",
              "      <td>2108.474522</td>\n",
              "      <td>334.011146</td>\n",
              "    </tr>\n",
              "    <tr>\n",
              "      <th>std</th>\n",
              "      <td>2762.223394</td>\n",
              "      <td>421.875154</td>\n",
              "    </tr>\n",
              "    <tr>\n",
              "      <th>min</th>\n",
              "      <td>88.000000</td>\n",
              "      <td>10.000000</td>\n",
              "    </tr>\n",
              "    <tr>\n",
              "      <th>25%</th>\n",
              "      <td>464.500000</td>\n",
              "      <td>75.000000</td>\n",
              "    </tr>\n",
              "    <tr>\n",
              "      <th>50%</th>\n",
              "      <td>1081.000000</td>\n",
              "      <td>173.000000</td>\n",
              "    </tr>\n",
              "    <tr>\n",
              "      <th>75%</th>\n",
              "      <td>2665.000000</td>\n",
              "      <td>431.000000</td>\n",
              "    </tr>\n",
              "    <tr>\n",
              "      <th>max</th>\n",
              "      <td>29046.000000</td>\n",
              "      <td>4281.000000</td>\n",
              "    </tr>\n",
              "  </tbody>\n",
              "</table>\n",
              "</div>\n",
              "    <div class=\"colab-df-buttons\">\n",
              "\n",
              "  <div class=\"colab-df-container\">\n",
              "    <button class=\"colab-df-convert\" onclick=\"convertToInteractive('df-f6965746-a77e-45a2-9f05-94cb0499495c')\"\n",
              "            title=\"Convert this dataframe to an interactive table.\"\n",
              "            style=\"display:none;\">\n",
              "\n",
              "  <svg xmlns=\"http://www.w3.org/2000/svg\" height=\"24px\" viewBox=\"0 -960 960 960\">\n",
              "    <path d=\"M120-120v-720h720v720H120Zm60-500h600v-160H180v160Zm220 220h160v-160H400v160Zm0 220h160v-160H400v160ZM180-400h160v-160H180v160Zm440 0h160v-160H620v160ZM180-180h160v-160H180v160Zm440 0h160v-160H620v160Z\"/>\n",
              "  </svg>\n",
              "    </button>\n",
              "\n",
              "  <style>\n",
              "    .colab-df-container {\n",
              "      display:flex;\n",
              "      gap: 12px;\n",
              "    }\n",
              "\n",
              "    .colab-df-convert {\n",
              "      background-color: #E8F0FE;\n",
              "      border: none;\n",
              "      border-radius: 50%;\n",
              "      cursor: pointer;\n",
              "      display: none;\n",
              "      fill: #1967D2;\n",
              "      height: 32px;\n",
              "      padding: 0 0 0 0;\n",
              "      width: 32px;\n",
              "    }\n",
              "\n",
              "    .colab-df-convert:hover {\n",
              "      background-color: #E2EBFA;\n",
              "      box-shadow: 0px 1px 2px rgba(60, 64, 67, 0.3), 0px 1px 3px 1px rgba(60, 64, 67, 0.15);\n",
              "      fill: #174EA6;\n",
              "    }\n",
              "\n",
              "    .colab-df-buttons div {\n",
              "      margin-bottom: 4px;\n",
              "    }\n",
              "\n",
              "    [theme=dark] .colab-df-convert {\n",
              "      background-color: #3B4455;\n",
              "      fill: #D2E3FC;\n",
              "    }\n",
              "\n",
              "    [theme=dark] .colab-df-convert:hover {\n",
              "      background-color: #434B5C;\n",
              "      box-shadow: 0px 1px 3px 1px rgba(0, 0, 0, 0.15);\n",
              "      filter: drop-shadow(0px 1px 2px rgba(0, 0, 0, 0.3));\n",
              "      fill: #FFFFFF;\n",
              "    }\n",
              "  </style>\n",
              "\n",
              "    <script>\n",
              "      const buttonEl =\n",
              "        document.querySelector('#df-f6965746-a77e-45a2-9f05-94cb0499495c button.colab-df-convert');\n",
              "      buttonEl.style.display =\n",
              "        google.colab.kernel.accessAllowed ? 'block' : 'none';\n",
              "\n",
              "      async function convertToInteractive(key) {\n",
              "        const element = document.querySelector('#df-f6965746-a77e-45a2-9f05-94cb0499495c');\n",
              "        const dataTable =\n",
              "          await google.colab.kernel.invokeFunction('convertToInteractive',\n",
              "                                                    [key], {});\n",
              "        if (!dataTable) return;\n",
              "\n",
              "        const docLinkHtml = 'Like what you see? Visit the ' +\n",
              "          '<a target=\"_blank\" href=https://colab.research.google.com/notebooks/data_table.ipynb>data table notebook</a>'\n",
              "          + ' to learn more about interactive tables.';\n",
              "        element.innerHTML = '';\n",
              "        dataTable['output_type'] = 'display_data';\n",
              "        await google.colab.output.renderOutput(dataTable, element);\n",
              "        const docLink = document.createElement('div');\n",
              "        docLink.innerHTML = docLinkHtml;\n",
              "        element.appendChild(docLink);\n",
              "      }\n",
              "    </script>\n",
              "  </div>\n",
              "\n",
              "\n",
              "    <div id=\"df-034328fe-a7a8-424c-aeaf-2a89170bad17\">\n",
              "      <button class=\"colab-df-quickchart\" onclick=\"quickchart('df-034328fe-a7a8-424c-aeaf-2a89170bad17')\"\n",
              "                title=\"Suggest charts\"\n",
              "                style=\"display:none;\">\n",
              "\n",
              "<svg xmlns=\"http://www.w3.org/2000/svg\" height=\"24px\"viewBox=\"0 0 24 24\"\n",
              "     width=\"24px\">\n",
              "    <g>\n",
              "        <path d=\"M19 3H5c-1.1 0-2 .9-2 2v14c0 1.1.9 2 2 2h14c1.1 0 2-.9 2-2V5c0-1.1-.9-2-2-2zM9 17H7v-7h2v7zm4 0h-2V7h2v10zm4 0h-2v-4h2v4z\"/>\n",
              "    </g>\n",
              "</svg>\n",
              "      </button>\n",
              "\n",
              "<style>\n",
              "  .colab-df-quickchart {\n",
              "      --bg-color: #E8F0FE;\n",
              "      --fill-color: #1967D2;\n",
              "      --hover-bg-color: #E2EBFA;\n",
              "      --hover-fill-color: #174EA6;\n",
              "      --disabled-fill-color: #AAA;\n",
              "      --disabled-bg-color: #DDD;\n",
              "  }\n",
              "\n",
              "  [theme=dark] .colab-df-quickchart {\n",
              "      --bg-color: #3B4455;\n",
              "      --fill-color: #D2E3FC;\n",
              "      --hover-bg-color: #434B5C;\n",
              "      --hover-fill-color: #FFFFFF;\n",
              "      --disabled-bg-color: #3B4455;\n",
              "      --disabled-fill-color: #666;\n",
              "  }\n",
              "\n",
              "  .colab-df-quickchart {\n",
              "    background-color: var(--bg-color);\n",
              "    border: none;\n",
              "    border-radius: 50%;\n",
              "    cursor: pointer;\n",
              "    display: none;\n",
              "    fill: var(--fill-color);\n",
              "    height: 32px;\n",
              "    padding: 0;\n",
              "    width: 32px;\n",
              "  }\n",
              "\n",
              "  .colab-df-quickchart:hover {\n",
              "    background-color: var(--hover-bg-color);\n",
              "    box-shadow: 0 1px 2px rgba(60, 64, 67, 0.3), 0 1px 3px 1px rgba(60, 64, 67, 0.15);\n",
              "    fill: var(--button-hover-fill-color);\n",
              "  }\n",
              "\n",
              "  .colab-df-quickchart-complete:disabled,\n",
              "  .colab-df-quickchart-complete:disabled:hover {\n",
              "    background-color: var(--disabled-bg-color);\n",
              "    fill: var(--disabled-fill-color);\n",
              "    box-shadow: none;\n",
              "  }\n",
              "\n",
              "  .colab-df-spinner {\n",
              "    border: 2px solid var(--fill-color);\n",
              "    border-color: transparent;\n",
              "    border-bottom-color: var(--fill-color);\n",
              "    animation:\n",
              "      spin 1s steps(1) infinite;\n",
              "  }\n",
              "\n",
              "  @keyframes spin {\n",
              "    0% {\n",
              "      border-color: transparent;\n",
              "      border-bottom-color: var(--fill-color);\n",
              "      border-left-color: var(--fill-color);\n",
              "    }\n",
              "    20% {\n",
              "      border-color: transparent;\n",
              "      border-left-color: var(--fill-color);\n",
              "      border-top-color: var(--fill-color);\n",
              "    }\n",
              "    30% {\n",
              "      border-color: transparent;\n",
              "      border-left-color: var(--fill-color);\n",
              "      border-top-color: var(--fill-color);\n",
              "      border-right-color: var(--fill-color);\n",
              "    }\n",
              "    40% {\n",
              "      border-color: transparent;\n",
              "      border-right-color: var(--fill-color);\n",
              "      border-top-color: var(--fill-color);\n",
              "    }\n",
              "    60% {\n",
              "      border-color: transparent;\n",
              "      border-right-color: var(--fill-color);\n",
              "    }\n",
              "    80% {\n",
              "      border-color: transparent;\n",
              "      border-right-color: var(--fill-color);\n",
              "      border-bottom-color: var(--fill-color);\n",
              "    }\n",
              "    90% {\n",
              "      border-color: transparent;\n",
              "      border-bottom-color: var(--fill-color);\n",
              "    }\n",
              "  }\n",
              "</style>\n",
              "\n",
              "      <script>\n",
              "        async function quickchart(key) {\n",
              "          const quickchartButtonEl =\n",
              "            document.querySelector('#' + key + ' button');\n",
              "          quickchartButtonEl.disabled = true;  // To prevent multiple clicks.\n",
              "          quickchartButtonEl.classList.add('colab-df-spinner');\n",
              "          try {\n",
              "            const charts = await google.colab.kernel.invokeFunction(\n",
              "                'suggestCharts', [key], {});\n",
              "          } catch (error) {\n",
              "            console.error('Error during call to suggestCharts:', error);\n",
              "          }\n",
              "          quickchartButtonEl.classList.remove('colab-df-spinner');\n",
              "          quickchartButtonEl.classList.add('colab-df-quickchart-complete');\n",
              "        }\n",
              "        (() => {\n",
              "          let quickchartButtonEl =\n",
              "            document.querySelector('#df-034328fe-a7a8-424c-aeaf-2a89170bad17 button');\n",
              "          quickchartButtonEl.style.display =\n",
              "            google.colab.kernel.accessAllowed ? 'block' : 'none';\n",
              "        })();\n",
              "      </script>\n",
              "    </div>\n",
              "\n",
              "  <div id=\"id_937c7c0b-4e73-42da-9c54-8efc0db48e32\">\n",
              "    <style>\n",
              "      .colab-df-generate {\n",
              "        background-color: #E8F0FE;\n",
              "        border: none;\n",
              "        border-radius: 50%;\n",
              "        cursor: pointer;\n",
              "        display: none;\n",
              "        fill: #1967D2;\n",
              "        height: 32px;\n",
              "        padding: 0 0 0 0;\n",
              "        width: 32px;\n",
              "      }\n",
              "\n",
              "      .colab-df-generate:hover {\n",
              "        background-color: #E2EBFA;\n",
              "        box-shadow: 0px 1px 2px rgba(60, 64, 67, 0.3), 0px 1px 3px 1px rgba(60, 64, 67, 0.15);\n",
              "        fill: #174EA6;\n",
              "      }\n",
              "\n",
              "      [theme=dark] .colab-df-generate {\n",
              "        background-color: #3B4455;\n",
              "        fill: #D2E3FC;\n",
              "      }\n",
              "\n",
              "      [theme=dark] .colab-df-generate:hover {\n",
              "        background-color: #434B5C;\n",
              "        box-shadow: 0px 1px 3px 1px rgba(0, 0, 0, 0.15);\n",
              "        filter: drop-shadow(0px 1px 2px rgba(0, 0, 0, 0.3));\n",
              "        fill: #FFFFFF;\n",
              "      }\n",
              "    </style>\n",
              "    <button class=\"colab-df-generate\" onclick=\"generateWithVariable('answer_length_stats')\"\n",
              "            title=\"Generate code using this dataframe.\"\n",
              "            style=\"display:none;\">\n",
              "\n",
              "  <svg xmlns=\"http://www.w3.org/2000/svg\" height=\"24px\"viewBox=\"0 0 24 24\"\n",
              "       width=\"24px\">\n",
              "    <path d=\"M7,19H8.4L18.45,9,17,7.55,7,17.6ZM5,21V16.75L18.45,3.32a2,2,0,0,1,2.83,0l1.4,1.43a1.91,1.91,0,0,1,.58,1.4,1.91,1.91,0,0,1-.58,1.4L9.25,21ZM18.45,9,17,7.55Zm-12,3A5.31,5.31,0,0,0,4.9,8.1,5.31,5.31,0,0,0,1,6.5,5.31,5.31,0,0,0,4.9,4.9,5.31,5.31,0,0,0,6.5,1,5.31,5.31,0,0,0,8.1,4.9,5.31,5.31,0,0,0,12,6.5,5.46,5.46,0,0,0,6.5,12Z\"/>\n",
              "  </svg>\n",
              "    </button>\n",
              "    <script>\n",
              "      (() => {\n",
              "      const buttonEl =\n",
              "        document.querySelector('#id_937c7c0b-4e73-42da-9c54-8efc0db48e32 button.colab-df-generate');\n",
              "      buttonEl.style.display =\n",
              "        google.colab.kernel.accessAllowed ? 'block' : 'none';\n",
              "\n",
              "      buttonEl.onclick = () => {\n",
              "        google.colab.notebook.generateWithVariable('answer_length_stats');\n",
              "      }\n",
              "      })();\n",
              "    </script>\n",
              "  </div>\n",
              "\n",
              "    </div>\n",
              "  </div>\n"
            ],
            "text/plain": [
              "       answer_char_length  answer_word_count\n",
              "count          628.000000         628.000000\n",
              "mean          2108.474522         334.011146\n",
              "std           2762.223394         421.875154\n",
              "min             88.000000          10.000000\n",
              "25%            464.500000          75.000000\n",
              "50%           1081.000000         173.000000\n",
              "75%           2665.000000         431.000000\n",
              "max          29046.000000        4281.000000"
            ]
          },
          "execution_count": 13,
          "metadata": {},
          "output_type": "execute_result"
        }
      ],
      "source": [
        "# Character lengths\n",
        "medquad_df['answer_char_length'] = medquad_df['answer'].astype(str).apply(len)\n",
        "# Word lengths\n",
        "medquad_df['answer_word_count'] = medquad_df['answer'].astype(str).apply(lambda x: len(x.split()))\n",
        "\n",
        "# Calculate descriptive statistics\n",
        "answer_length_stats = medquad_df[['answer_char_length', 'answer_word_count']].describe()\n",
        "answer_length_stats"
      ]
    },
    {
      "cell_type": "code",
      "execution_count": 15,
      "id": "ed56e36a",
      "metadata": {
        "colab": {
          "base_uri": "https://localhost:8080/",
          "height": 412
        },
        "id": "ed56e36a",
        "outputId": "1c8751ab-6171-4c0e-8e03-33394321bbe5"
      },
      "outputs": [
        {
          "data": {
            "image/png": "[encoded data removed]",
            "text/plain": [
              "<Figure size 1600x400 with 1 Axes>"
            ]
          },
          "metadata": {},
          "output_type": "display_data"
        }
      ],
      "source": [
        "# Visualize the distribution of word counts\n",
        "plt.figure(figsize=(16,4))\n",
        "plt.subplot(1, 2, 1)\n",
        "sns.histplot(medquad_df['answer_word_count'], kde=True, color='skyblue')\n",
        "plt.title('Distribution of Answer Word Counts', fontsize=10)\n",
        "plt.xlabel('Number of Words', fontsize=10)\n",
        "plt.ylabel('Frequency', fontsize=10)\n",
        "plt.axvline(x=answer_length_stats['answer_word_count']['mean'], color='red', linestyle='--', label=f\"Mean: {answer_length_stats['answer_word_count']['mean']:.2f}\")\n",
        "plt.show()"
      ]
    },
    {
      "cell_type": "markdown",
      "id": "3415a680",
      "metadata": {
        "id": "3415a680"
      },
      "source": [
        "Observing the stats for the word counts in the `answer` text, we see that:\n",
        "* the mean word count is 334 words.\n",
        "* the median word count is 171 words.\n",
        "* the shortest text is 10 words\n",
        "* the longest text is 4281 words."
      ]
    },
    {
      "cell_type": "markdown",
      "id": "549af468",
      "metadata": {
        "id": "549af468"
      },
      "source": [
        "We can consider dropping texts with notably low or high word counts (outliers)."
      ]
    },
    {
      "cell_type": "markdown",
      "id": "5a2eb37b",
      "metadata": {
        "id": "5a2eb37b"
      },
      "source": [
        "## **Text Cleaning and Preprocessing**"
      ]
    },
    {
      "cell_type": "markdown",
      "id": "e30819f7",
      "metadata": {
        "id": "e30819f7"
      },
      "source": [
        "Now, we will clean and pre-process the texts in the `answer` column and the target labels in the `focus-group` column."
      ]
    },
    {
      "cell_type": "markdown",
      "id": "337ea96b",
      "metadata": {
        "id": "337ea96b"
      },
      "source": [
        "**Encode Target Focus Groups**"
      ]
    },
    {
      "cell_type": "code",
      "execution_count": 16,
      "id": "39ba29d2",
      "metadata": {
        "colab": {
          "base_uri": "https://localhost:8080/"
        },
        "id": "39ba29d2",
        "outputId": "ab1aeb1f-e2d6-4ac8-9a40-0a54cd91d5d6"
      },
      "outputs": [
        {
          "name": "stderr",
          "output_type": "stream",
          "text": [
            "/tmp/ipython-input-4252006426.py:2: FutureWarning: Downcasting behavior in `replace` is deprecated and will be removed in a future version. To retain the old behavior, explicitly call `result.infer_objects(copy=False)`. To opt-in to the future behavior, set `pd.set_option('future.no_silent_downcasting', True)`\n",
            "  medquad_df['focus_group'] = medquad_df['focus_group'].replace(focus_map)\n"
          ]
        }
      ],
      "source": [
        "focus_map = {'Neurological & Cognitive Disorders': 0, 'Cancers': 1, 'Cardiovascular Diseases': 2, 'Metabolic & Endocrine Disorders': 3, 'Other Age-Related & Immune Disorders': 4}\n",
        "medquad_df['focus_group'] = medquad_df['focus_group'].replace(focus_map)"
      ]
    },
    {
      "cell_type": "markdown",
      "id": "5bd24438",
      "metadata": {
        "id": "5bd24438"
      },
      "source": [
        "**Drop Duplicated Rows**\n",
        "\n",
        "We observed that many of the text in the `answer` column are duplicates (or fairly similar), which is common among medical texts.\n",
        "\n",
        "we'll need to drop duplicates, otherwise:\n",
        "* the model will overfit to over-represented texts\n",
        "* the model will have trouble generalizng to new, unseen texts\n",
        "* model training will take longer than necessary"
      ]
    },
    {
      "cell_type": "code",
      "execution_count": 17,
      "id": "a862f30c",
      "metadata": {
        "colab": {
          "base_uri": "https://localhost:8080/"
        },
        "id": "a862f30c",
        "outputId": "95c578a3-bfc5-46ab-be4c-3ab78c14dcb2"
      },
      "outputs": [
        {
          "name": "stdout",
          "output_type": "stream",
          "text": [
            "Shape before duplicates: (628, 7)\n",
            "Shaoe after removing duplicates: (605, 7)\n"
          ]
        }
      ],
      "source": [
        "# Return all rows that are duplicates of a previous row\n",
        "print(\"Shape before duplicates:\", medquad_df.shape)\n",
        "duplicates = medquad_df[medquad_df.duplicated(subset='answer')]\n",
        "medquad_df = medquad_df.drop_duplicates(subset='answer')\n",
        "print(\"Shaoe after removing duplicates:\", medquad_df.shape)"
      ]
    },
    {
      "cell_type": "markdown",
      "id": "0b5fc175",
      "metadata": {
        "id": "0b5fc175"
      },
      "source": [
        "**Split the dataset into training and testing sets**"
      ]
    },
    {
      "cell_type": "markdown",
      "id": "42a41117",
      "metadata": {
        "id": "42a41117"
      },
      "source": [
        "We now split the dataset into training and testing sets. We use 80% of the data for training and 20% for testing.\n",
        "\n",
        "Since our dataset is quite small, we'll need to stratify the distribution of focus groups to ensure fair representation in both training and testing sets."
      ]
    },
    {
      "cell_type": "code",
      "execution_count": 18,
      "id": "1107b73a",
      "metadata": {
        "id": "1107b73a"
      },
      "outputs": [],
      "source": [
        "from sklearn.model_selection import train_test_split\n",
        "\n",
        "train_df, test_df = train_test_split(medquad_df,\n",
        "                                     test_size=0.2,\n",
        "                                     random_state=42,\n",
        "                                     stratify=medquad_df['focus_group'])"
      ]
    },
    {
      "cell_type": "code",
      "execution_count": 19,
      "id": "2b3d1a7e",
      "metadata": {
        "colab": {
          "base_uri": "https://localhost:8080/"
        },
        "id": "2b3d1a7e",
        "outputId": "f9351d5c-a577-4a90-efe3-343693f6adad"
      },
      "outputs": [
        {
          "name": "stdout",
          "output_type": "stream",
          "text": [
            "Training set distribution: focus_group\n",
            "1    0.345041\n",
            "2    0.241736\n",
            "4    0.161157\n",
            "3    0.134298\n",
            "0    0.117769\n",
            "Name: proportion, dtype: float64\n",
            "Testing set distribution: focus_group\n",
            "1    0.347107\n",
            "2    0.239669\n",
            "4    0.157025\n",
            "3    0.140496\n",
            "0    0.115702\n",
            "Name: proportion, dtype: float64\n"
          ]
        }
      ],
      "source": [
        "print('Training set distribution:', train_df['focus_group'].value_counts(1))\n",
        "print('Testing set distribution:',test_df['focus_group'].value_counts(1))"
      ]
    },
    {
      "cell_type": "markdown",
      "id": "c58773a9",
      "metadata": {
        "id": "c58773a9"
      },
      "source": [
        "**Create Training Corpus**\n",
        "\n",
        "Next, we will create a training corpus by converting each text sequence and focus group labels to lists:\n",
        "\n",
        "* `train_texts` will contain each answer text separated by commas\n",
        "* `train_labels` will contain each focus group label separated by commas"
      ]
    },
    {
      "cell_type": "code",
      "execution_count": 20,
      "id": "5bf48197",
      "metadata": {
        "colab": {
          "base_uri": "https://localhost:8080/"
        },
        "id": "5bf48197",
        "outputId": "649c66b0-4ee3-4368-9d83-b9aa87c83fd6"
      },
      "outputs": [
        {
          "name": "stdout",
          "output_type": "stream",
          "text": [
            "[\"Your doctor will diagnose hemochromatosis based on your medical and family histories, a physical exam, and the results from tests and procedures.\\n                \\nThe disease sometimes is detected while checking for other diseases or conditions, such as arthritis, liver disease, diabetes, heart disease, or erectile dysfunction (impotence).\\n                \\nSpecialists Involved\\n                \\nFamily doctors and internal medicine specialists may diagnose and treat hemochromatosis. Other doctors also may be involved in diagnosing and treating the disease, including:\\n                \\nHematologists (blood disease specialists)\\n                \\nCardiologists (heart specialists)\\n                \\nEndocrinologists (gland system specialists)\\n                \\nHepatologists (liver specialists)\\n                \\nGastroenterologists (digestive tract specialists)\\n                \\nRheumatologists (specialists in diseases of the joints and tissues)\\n                \\nMedical and Family Histories\\n                \\nTo learn about your medical and family histories, your doctor may ask:\\n                \\nAbout your signs and symptoms, including when they started and their severity.\\n                \\nWhether you take iron (pills or injections) with or without vitamin C supplements (vitamin C helps your body absorb iron from food). If so, your doctor may ask how much iron you take. This information can help him or her diagnose secondary hemochromatosis.\\n                \\nWhether other members of your family have hemochromatosis.\\n                \\nWhether other members of your family have a history of medical problems or diseases related to hemochromatosis.\\n                \\nPhysical Exam\\n                \\nYour doctor will do a physical exam to check for signs and symptoms of hemochromatosis. He or she will listen to your heart for irregular heartbeats and check for arthritis, abnormal skin color, and an enlarged liver.\\n                \\nDiagnostic Tests and Procedures\\n                \\nYour doctor may recommend one or more tests or procedures to diagnose hemochromatosis.\\n                \\nBlood Tests\\n                \\nIn hemochromatosis, the amount of iron in your body may be too high, even though the level of iron in your blood is normal. Certain blood tests can help your doctor find out how much iron is in your body. \\n                \\nDuring these tests, a sample of blood is taken from your body. It's usually drawn from a vein in your arm using a needle. The procedure usually is quick and easy, although it may cause some short-term discomfort.\\n                \\nThe blood tests you have may include transferrin saturation (TS), serum ferritin level, and liver function tests.\\n                \\nTransferrin is a protein that carries iron in the blood. The TS test shows how much iron the transferrin is carrying. This helps your doctor find out how much iron is in your body.\\n                \\nYour doctor may test your serum ferritin level if your TS level is high. A serum ferritin level test shows how much iron is stored in your body's organs. A buildup of iron may suggest hemochromatosis.\\n                \\nYou may have liver function tests to check for damage to your liver. Liver damage may be a sign of hemochromatosis. If you have hemochromatosis, liver function tests may show the severity of the disease.\\n                \\nBlood tests alone can't diagnose hemochromatosis. Thus, your doctor may recommend other tests as well.\\n                \\nLiver Biopsy\\n                \\nDuring a liver biopsy, your doctor numbs an area near your liver and then removes a small sample of liver tissue using a needle. The tissue is then looked at under a microscope.\\n                \\nA liver biopsy can show how much iron is in your liver. This procedure also can help your doctor diagnose liver damage (for example, scarring and cancer). Liver biopsies are less common now than in the past.\\n                \\nMagnetic Resonance Imaging\\n                \\nMagnetic resonance imaging (MRI) is a safe test that uses radio waves, magnets, and a computer to create pictures of your organs. An MRI may be done to show the amount of iron in your liver.\\n                \\nSuperconducting Quantum Interference Device\\n                \\nA superconducting quantum interference device (SQuID) is a machine that uses very sensitive magnets to measure the amount of iron in your liver. This machine is available at only a few medical centers.\\n                \\nGenetic Testing\\n                \\nGenetic testing can show whether you have a faulty HFE gene or genes. However, even if you do have two faulty HFE genes, the genetic test can't predict whether you'll develop signs and symptoms of hemochromatosis.\\n                \\nAlso, genetic testing may not detect other, less common faulty genes that also can cause hemochromatosis.\\n                \\nThere are two ways to do genetic testing. Cells can be collected from inside your mouth using a cotton swab, or a sample of blood can be drawn from a vein in your arm.\\n                \\nPeople who have hemochromatosis (or a family history of it) and are planning to have children may want to consider genetic testing and counseling. Testing will help show whether one or both parents have faulty HFE genes. A genetic counselor also can help figure out the likelihood of the parents passing the faulty genes on to their children.\", \"Alzheimer's disease (AD) is an age-related, non-reversible brain disorder that develops over a period of years. Initially, people experience memory loss and confusion, which may be mistaken for the kinds of memory changes that are sometimes associated with normal aging. However, the symptoms of AD gradually lead to behavior and personality changes, a decline in cognitive abilities such as decision-making and language skills, and problems recognizing family and friends. AD ultimately leads to a severe loss of mental function. These losses are related to the worsening breakdown of the connections between certain neurons in the brain and their eventual death. AD is one of a group of disorders called dementias that are characterized by cognitive and behavioral problems. It is the most common cause of dementia among people age 65 and older.\\n                \\nThere are three major hallmarks in the brain that are associated with the disease processes of AD.\\n                \\n- Amyloid plaques, which are made up of fragments of a protein called beta-amyloid peptide mixed with a collection of additional proteins, remnants of neurons, and bits and pieces of other nerve cells. - Neurofibrillary tangles (NFTs), found inside neurons, are abnormal collections of a protein called tau. Normal tau is required for healthy neurons. However, in AD, tau clumps together. As a result, neurons fail to function normally and eventually die. - Loss of connections between neurons responsible for memory and learning. Neurons can't survive when they lose their connections to other neurons. As neurons die throughout the brain, the affected regions begin to atrophy, or shrink. By the final stage of AD, damage is widespread and brain tissue has shrunk significantly.\"]\n",
            "[3, 0]\n"
          ]
        }
      ],
      "source": [
        "train_texts = train_df['answer'].tolist()\n",
        "train_labels = train_df['focus_group'].tolist()\n",
        "\n",
        "# Print the first two training texts and labels\n",
        "print(train_texts[:2])\n",
        "print(train_labels[:2])"
      ]
    },
    {
      "cell_type": "markdown",
      "id": "eb764515",
      "metadata": {
        "id": "eb764515"
      },
      "source": [
        "**Removing Keywords from Training Text**\n",
        "\n",
        "One issue we might encounter is that the training text might contain the actual focus group label, which may cause data leakage. Our model could cheat by detecting keywords and memorizing the focus group label instead of actually learning the patterns and relatiosnhips within the medical text.\n",
        "\n",
        "One strategy is to remove keywords from the training text:"
      ]
    },
    {
      "cell_type": "code",
      "execution_count": 21,
      "id": "a9e53d7d",
      "metadata": {
        "id": "a9e53d7d"
      },
      "outputs": [],
      "source": [
        "import re\n",
        "\n",
        "remove_keywords = ['Breast Cancer', 'Prostate Cancer', 'Skin Cancer',\n",
        "    'Colorectal Cancer', 'Lung Cancer', 'Leukemia', 'Stroke', 'Heart Failure', 'Heart Attack',\n",
        "    'High Blood Cholesterol', 'High Blood Pressure', 'Causes of Diabetes', 'Diabetes', 'Diabetic Retinopathy',\n",
        "    'Hemochromatosis', 'Kidney Disease', 'Alzheimer\\'s Disease', 'Parkinson\\'s Disease', 'Balance Problems',\n",
        "    'Shingles', 'Osteoporosis', 'Age-related Macular Degeneration',\n",
        "    'Psoriasis', 'Gum (Periodontal) Disease', 'Dry Mouth']\n",
        "\n",
        "# Split all multi-word phrases into individual words\n",
        "# Ex. \"High Blood Cholesterol\" ==> \"High\", \"Blood\", \"Cholesterol\"\n",
        "words_to_remove = set()\n",
        "for keyword in remove_keywords:\n",
        "    for word in re.findall(r'\\b\\w+\\b', keyword):\n",
        "        words_to_remove.add(word.lower()) # lowercased for case-insensitive match\n",
        "\n",
        "# Create regex pattern to match any of the words\n",
        "pattern = re.compile(r'\\b(?:' + '|'.join(map(re.escape, words_to_remove)) + r')\\b', flags=re.IGNORECASE)\n",
        "\n",
        "# Remove individual words from each text\n",
        "masked_train_texts = [pattern.sub('', text) for text in train_texts]\n",
        "\n",
        "# Normalize whitespace\n",
        "masked_train_texts = [re.sub(r'\\s+', ' ', text).strip() for text in masked_train_texts]"
      ]
    },
    {
      "cell_type": "markdown",
      "id": "9f2dd88b",
      "metadata": {
        "id": "9f2dd88b"
      },
      "source": [
        "**Tokenize the Training Text**\n",
        "\n",
        "Next we'll tokenize each training text into word tokens"
      ]
    },
    {
      "cell_type": "code",
      "execution_count": 22,
      "id": "30f85976",
      "metadata": {
        "colab": {
          "base_uri": "https://localhost:8080/"
        },
        "id": "30f85976",
        "outputId": "03699f5a-6a0b-4c7d-d08a-422cda470c1a"
      },
      "outputs": [
        {
          "name": "stdout",
          "output_type": "stream",
          "text": [
            "['your', 'doctor', 'will', 'diagnose', 'based', 'on', 'your', 'medical', 'and', 'family', 'histories', 'a', 'physical', 'exam', 'and', 'the', 'results', 'from', 'tests', 'and', 'procedures', 'the', 'sometimes', 'is', 'detected', 'while', 'checking', 'for', 'other', 'diseases', 'or', 'conditions', 'such', 'as', 'arthritis', 'liver', 'or', 'erectile', 'dysfunction', 'impotence', 'specialists', 'involved', 'family', 'doctors', 'and', 'internal', 'medicine', 'specialists', 'may', 'diagnose', 'and', 'treat', 'other', 'doctors', 'also', 'may', 'be', 'involved', 'in', 'diagnosing', 'and', 'treating', 'the', 'including', 'hematologists', 'specialists', 'cardiologists', 'specialists', 'endocrinologists', 'gland', 'system', 'specialists', 'hepatologists', 'liver', 'specialists', 'gastroenterologists', 'digestive', 'tract', 'specialists', 'rheumatologists', 'specialists', 'in', 'diseases', 'the', 'joints', 'and', 'tissues', 'medical', 'and', 'family', 'histories', 'to', 'learn', 'about', 'your', 'medical', 'and', 'family', 'histories', 'your', 'doctor', 'may', 'ask', 'about', 'your', 'signs', 'and', 'symptoms', 'including', 'when', 'they', 'started', 'and', 'their', 'severity', 'whether', 'you', 'take', 'iron', 'pills', 'or', 'injections', 'with', 'or', 'without', 'vitamin', 'c', 'supplements', 'vitamin', 'c', 'helps', 'your', 'body', 'absorb', 'iron', 'from', 'food', 'if', 'so', 'your', 'doctor', 'may', 'ask', 'how', 'much', 'iron', 'you', 'take', 'this', 'information', 'can', 'help', 'him', 'or', 'her', 'diagnose', 'secondary', 'whether', 'other', 'members', 'your', 'family', 'have', 'whether', 'other', 'members', 'your', 'family', 'have', 'a', 'history', 'medical', 'or', 'diseases', 'to', 'physical', 'exam', 'your', 'doctor', 'will', 'do', 'a', 'physical', 'exam', 'to', 'check', 'for', 'signs', 'and', 'symptoms', 'he', 'or', 'she', 'will', 'listen', 'to', 'your', 'for', 'irregular', 'heartbeats', 'and', 'check', 'for', 'arthritis', 'abnormal', 'color', 'and', 'an', 'enlarged', 'liver', 'diagnostic', 'tests', 'and', 'procedures', 'your', 'doctor', 'may', 'recommend', 'one', 'or', 'more', 'tests', 'or', 'procedures', 'to', 'diagnose', 'tests', 'in', 'the', 'amount', 'iron', 'in', 'your', 'body', 'may', 'be', 'too', 'even', 'though', 'the', 'level', 'iron', 'in', 'your', 'is', 'normal', 'certain', 'tests', 'can', 'help', 'your', 'doctor', 'find', 'out', 'how', 'much', 'iron', 'is', 'in', 'your', 'body', 'during', 'these', 'tests', 'a', 'sample', 'is', 'taken', 'from', 'your', 'body', 'it', 'usually', 'drawn', 'from', 'a', 'vein', 'in', 'your', 'arm', 'using', 'a', 'needle', 'the', 'procedure', 'usually', 'is', 'quick', 'and', 'easy', 'although', 'it', 'may', 'cause', 'some', 'short', 'term', 'discomfort', 'the', 'tests', 'you', 'have', 'may', 'include', 'transferrin', 'saturation', 'ts', 'serum', 'ferritin', 'level', 'and', 'liver', 'function', 'tests', 'transferrin', 'is', 'a', 'protein', 'that', 'carries', 'iron', 'in', 'the', 'the', 'ts', 'test', 'shows', 'how', 'much', 'iron', 'the', 'transferrin', 'is', 'carrying', 'this', 'helps', 'your', 'doctor', 'find', 'out', 'how', 'much', 'iron', 'is', 'in', 'your', 'body', 'your', 'doctor', 'may', 'test', 'your', 'serum', 'ferritin', 'level', 'if', 'your', 'ts', 'level', 'is', 'a', 'serum', 'ferritin', 'level', 'test', 'shows', 'how', 'much', 'iron', 'is', 'stored', 'in', 'your', 'body', 'organs', 'a', 'buildup', 'iron', 'may', 'suggest', 'you', 'may', 'have', 'liver', 'function', 'tests', 'to', 'check', 'for', 'damage', 'to', 'your', 'liver', 'liver', 'damage', 'may', 'be', 'a', 'sign', 'if', 'you', 'have', 'liver', 'function', 'tests', 'may', 'show', 'the', 'severity', 'the', 'tests', 'alone', 'can', 't', 'diagnose', 'thus', 'your', 'doctor', 'may', 'recommend', 'other', 'tests', 'as', 'well', 'liver', 'biopsy', 'during', 'a', 'liver', 'biopsy', 'your', 'doctor', 'numbs', 'an', 'area', 'near', 'your', 'liver', 'and', 'then', 'removes', 'a', 'small', 'sample', 'liver', 'tissue', 'using', 'a', 'needle', 'the', 'tissue', 'is', 'then', 'looked', 'at', 'under', 'a', 'microscope', 'a', 'liver', 'biopsy', 'can', 'show', 'how', 'much', 'iron', 'is', 'in', 'your', 'liver', 'this', 'procedure', 'also', 'can', 'help', 'your', 'doctor', 'diagnose', 'liver', 'damage', 'for', 'example', 'scarring', 'and', 'liver', 'biopsies', 'are', 'less', 'common', 'now', 'than', 'in', 'the', 'past', 'magnetic', 'resonance', 'imaging', 'magnetic', 'resonance', 'imaging', 'mri', 'is', 'a', 'safe', 'test', 'that', 'uses', 'radio', 'waves', 'magnets', 'and', 'a', 'computer', 'to', 'create', 'pictures', 'your', 'organs', 'an', 'mri', 'may', 'be', 'done', 'to', 'show', 'the', 'amount', 'iron', 'in', 'your', 'liver', 'superconducting', 'quantum', 'interference', 'device', 'a', 'superconducting', 'quantum', 'interference', 'device', 'squid', 'is', 'a', 'machine', 'that', 'uses', 'very', 'sensitive', 'magnets', 'to', 'measure', 'the', 'amount', 'iron', 'in', 'your', 'liver', 'this', 'machine', 'is', 'available', 'at', 'only', 'a', 'few', 'medical', 'centers', 'genetic', 'testing', 'genetic', 'testing', 'can', 'show', 'whether', 'you', 'have', 'a', 'faulty', 'hfe', 'gene', 'or', 'genes', 'however', 'even', 'if', 'you', 'do', 'have', 'two', 'faulty', 'hfe', 'genes', 'the', 'genetic', 'test', 'can', 't', 'predict', 'whether', 'you', 'll', 'develop', 'signs', 'and', 'symptoms', 'also', 'genetic', 'testing', 'may', 'not', 'detect', 'other', 'less', 'common', 'faulty', 'genes', 'that', 'also', 'can', 'cause', 'there', 'are', 'two', 'ways', 'to', 'do', 'genetic', 'testing', 'cells', 'can', 'be', 'collected', 'from', 'inside', 'your', 'using', 'a', 'cotton', 'swab', 'or', 'a', 'sample', 'can', 'be', 'drawn', 'from', 'a', 'vein', 'in', 'your', 'arm', 'people', 'who', 'have', 'or', 'a', 'family', 'history', 'it', 'and', 'are', 'planning', 'to', 'have', 'children', 'may', 'want', 'to', 'consider', 'genetic', 'testing', 'and', 'counseling', 'testing', 'will', 'help', 'show', 'whether', 'one', 'or', 'both', 'parents', 'have', 'faulty', 'hfe', 'genes', 'a', 'genetic', 'counselor', 'also', 'can', 'help', 'figure', 'out', 'the', 'likelihood', 'the', 'parents', 'passing', 'the', 'faulty', 'genes', 'on', 'to', 'their', 'children']\n"
          ]
        }
      ],
      "source": [
        "import re\n",
        "def tokenize(text):\n",
        "    tokenized_text = re.findall(r'\\b\\w+\\b', text.lower())\n",
        "    return tokenized_text\n",
        "\n",
        "tokenized_train_texts = [tokenize(focus_area_text) for focus_area_text in masked_train_texts]\n",
        "\n",
        "# Print the first tokenized text sequence\n",
        "print(tokenized_train_texts[0])"
      ]
    },
    {
      "cell_type": "markdown",
      "id": "4ea16aee",
      "metadata": {
        "id": "4ea16aee"
      },
      "source": [
        "**Count the Number of Occurances for each Word Token**"
      ]
    },
    {
      "cell_type": "code",
      "execution_count": 23,
      "id": "527c5942",
      "metadata": {
        "id": "527c5942"
      },
      "outputs": [],
      "source": [
        "from collections import Counter\n",
        "combined_training_corpus = []\n",
        "for text in tokenized_train_texts:\n",
        "    for token in text:\n",
        "        combined_training_corpus.append(token)\n",
        "\n",
        "word_freqs = Counter(combined_training_corpus)\n"
      ]
    },
    {
      "cell_type": "markdown",
      "id": "9bcf76f2",
      "metadata": {
        "id": "9bcf76f2"
      },
      "source": [
        "**Create the Vocabulary**\n",
        "\n",
        "We'll build the vocabulary using the top 1,000 most commonly occuring word tokens."
      ]
    },
    {
      "cell_type": "code",
      "execution_count": 24,
      "id": "a7aa4ee9",
      "metadata": {
        "colab": {
          "base_uri": "https://localhost:8080/"
        },
        "id": "a7aa4ee9",
        "outputId": "fbdb8b4f-9208-478b-96f3-44bd3e5d7c8f"
      },
      "outputs": [
        {
          "name": "stdout",
          "output_type": "stream",
          "text": [
            "Top 10 most common words: [('the', 7552), ('to', 3778), ('and', 3666), ('a', 3375), ('in', 2640), ('or', 2606), ('is', 2251), ('are', 1608), ('for', 1495), ('your', 1473)]\n"
          ]
        }
      ],
      "source": [
        "MAX_VOCAB_SIZE = 1000\n",
        "most_common_words = word_freqs.most_common(MAX_VOCAB_SIZE)\n",
        "print(\"Top 10 most common words:\", most_common_words[:10])"
      ]
    },
    {
      "cell_type": "markdown",
      "id": "c7d414c0",
      "metadata": {
        "id": "c7d414c0"
      },
      "source": [
        "Then, we;ll create the vocabulary as a dictionary assigning each token a token ID based on its positional value and frequency counts.\n",
        "\n",
        "We'll also create two special tokens:\n",
        "* <unk> with the token ID value 0\n",
        "* <pad> with the token ID value 1"
      ]
    },
    {
      "cell_type": "code",
      "execution_count": 25,
      "id": "1cea97cf",
      "metadata": {
        "colab": {
          "base_uri": "https://localhost:8080/"
        },
        "id": "1cea97cf",
        "outputId": "71f35075-d4c4-4d59-a2eb-e06e8a880e34"
      },
      "outputs": [
        {
          "data": {
            "text/plain": [
              "1002"
            ]
          },
          "execution_count": 25,
          "metadata": {},
          "output_type": "execute_result"
        }
      ],
      "source": [
        "vocab = {word: idx + 2 for idx, (word, freq) in enumerate(most_common_words)}\n",
        "vocab['<unk>'] = 0\n",
        "vocab['<pad>'] = 1\n",
        "\n",
        "len(vocab)"
      ]
    },
    {
      "cell_type": "markdown",
      "id": "896d10f6",
      "metadata": {
        "id": "896d10f6"
      },
      "source": [
        "**Encode and Pad/Truncate the Tokenized Text**\n",
        "\n",
        "Using the vocabulary, we'll encode the text.\n",
        "\n",
        "While encoding the text, we'll also need to pad/truncate the text to a fixed length value of `128` tokens."
      ]
    },
    {
      "cell_type": "code",
      "execution_count": 26,
      "id": "070b0dd2",
      "metadata": {
        "id": "070b0dd2"
      },
      "outputs": [],
      "source": [
        "def encode_text(text, vocab):\n",
        "    tokenized_text = tokenize(text)\n",
        "    encoded_text = [vocab.get(word, vocab['<unk>']) for word in tokenized_text]\n",
        "    return encoded_text\n",
        "\n",
        "def pad_or_truncate(encoded_text, max_length):\n",
        "    if len(encoded_text) > max_length:\n",
        "        return encoded_text[:max_length]\n",
        "    else:\n",
        "        return encoded_text + [vocab['<pad>']] * (max_length - len(encoded_text))"
      ]
    },
    {
      "cell_type": "code",
      "execution_count": 27,
      "id": "e4725869",
      "metadata": {
        "id": "e4725869"
      },
      "outputs": [],
      "source": [
        "MAX_SEQ_LENGTH = 100\n",
        "padded_train_seqs = [pad_or_truncate(encode_text(seq, vocab), max_length=MAX_SEQ_LENGTH) for seq in masked_train_texts]"
      ]
    },
    {
      "cell_type": "markdown",
      "id": "8d275540",
      "metadata": {
        "id": "8d275540"
      },
      "source": [
        "**Convert to PyTorch Tensors**\n",
        "\n",
        "Next, we'll convert the encoded, tokenized text into PyTorch Tensors for training.\n",
        "\n",
        "We'll also organize the training tensors into training batches"
      ]
    },
    {
      "cell_type": "code",
      "execution_count": 28,
      "id": "58e33c05",
      "metadata": {
        "id": "58e33c05"
      },
      "outputs": [],
      "source": [
        "import torch\n",
        "X_train_tensor = torch.tensor(padded_train_seqs)\n",
        "y_train_tensor = torch.tensor(train_labels, dtype=torch.long)\n",
        "\n",
        "from torch.utils.data import TensorDataset, DataLoader\n",
        "batch_size=16\n",
        "train_dataset = TensorDataset(X_train_tensor, y_train_tensor)\n",
        "train_dataloader = DataLoader(train_dataset, batch_size=batch_size, shuffle=True)"
      ]
    },
    {
      "cell_type": "markdown",
      "id": "6efb42d1",
      "metadata": {
        "id": "6efb42d1"
      },
      "source": [
        "**Simple Neural Network**\n",
        "\n",
        "The first text classification model we will be a simple neural network with an embedding layer that will serve as a baseline model."
      ]
    },
    {
      "cell_type": "markdown",
      "id": "73438d9e",
      "metadata": {
        "id": "73438d9e"
      },
      "source": [
        "**Build NN Architecture**"
      ]
    },
    {
      "cell_type": "code",
      "execution_count": 29,
      "id": "0cfb3da8",
      "metadata": {
        "id": "0cfb3da8"
      },
      "outputs": [],
      "source": [
        "import torch.nn as nn\n",
        "import torch.optim as optim\n",
        "torch.manual_seed(42)\n",
        "\n",
        "class SimpleNNWithEmbedding(nn.Module):\n",
        "    def __init__(self, vocab_size, embed_size, hidden_size, output_size):\n",
        "        super(SimpleNNWithEmbedding, self).__init__()\n",
        "        self.embedding = nn.Embedding(vocab_size, embed_size)\n",
        "        self.fc1 = nn.Linear(embed_size, hidden_size)\n",
        "        self.fc2 = nn.Linear(hidden_size, output_size)\n",
        "\n",
        "    def forward(self, x):\n",
        "        x = self.embedding(x)\n",
        "        x = torch.mean(x, dim=1)  # Average pooling\n",
        "        x = self.fc1(x)\n",
        "        x = torch.relu(x)\n",
        "        x = self.fc2(x)\n",
        "        return x"
      ]
    },
    {
      "cell_type": "markdown",
      "id": "090bd17b",
      "metadata": {
        "id": "090bd17b"
      },
      "source": [
        "**Instantiate the Model**"
      ]
    },
    {
      "cell_type": "code",
      "execution_count": 30,
      "id": "a9516a7b",
      "metadata": {
        "colab": {
          "base_uri": "https://localhost:8080/"
        },
        "id": "a9516a7b",
        "outputId": "289b32da-fa63-4383-8b23-f39fe68514b4"
      },
      "outputs": [
        {
          "name": "stdout",
          "output_type": "stream",
          "text": [
            "SimpleNNWithEmbedding(\n",
            "  (embedding): Embedding(1002, 50)\n",
            "  (fc1): Linear(in_features=50, out_features=100, bias=True)\n",
            "  (fc2): Linear(in_features=100, out_features=5, bias=True)\n",
            ")\n"
          ]
        }
      ],
      "source": [
        "vocab_size = len(vocab)\n",
        "embed_size = 50\n",
        "hidden_size = 100\n",
        "output_size = n_focus_groups\n",
        "\n",
        "nn_classifier = SimpleNNWithEmbedding(vocab_size, embed_size, hidden_size, output_size)\n",
        "print(nn_classifier)"
      ]
    },
    {
      "cell_type": "markdown",
      "id": "da1d88f8",
      "metadata": {
        "id": "da1d88f8"
      },
      "source": [
        "**Specify Loss Function and Optimizer**"
      ]
    },
    {
      "cell_type": "code",
      "execution_count": 31,
      "id": "7f7bf3fa",
      "metadata": {
        "id": "7f7bf3fa"
      },
      "outputs": [],
      "source": [
        "criterion = nn.CrossEntropyLoss()\n",
        "optimizer = optim.Adam(nn_classifier.parameters(), lr=0.0001)"
      ]
    },
    {
      "cell_type": "markdown",
      "id": "0c8fe0ef",
      "metadata": {
        "id": "0c8fe0ef"
      },
      "source": [
        "**Model Training**"
      ]
    },
    {
      "cell_type": "code",
      "execution_count": 32,
      "id": "4d065526",
      "metadata": {
        "colab": {
          "base_uri": "https://localhost:8080/"
        },
        "id": "4d065526",
        "outputId": "c440ee9f-22ba-4191-d6fe-fe2ef8ae3bdf"
      },
      "outputs": [
        {
          "name": "stdout",
          "output_type": "stream",
          "text": [
            "Epoch 100/500, Average CE Loss: 0.9658770446\n",
            "Epoch 200/500, Average CE Loss: 0.5275805131\n",
            "Epoch 300/500, Average CE Loss: 0.2304571127\n",
            "Epoch 400/500, Average CE Loss: 0.0984996965\n",
            "Epoch 500/500, Average CE Loss: 0.0384552575\n"
          ]
        }
      ],
      "source": [
        "def train_model(model, train_dataloader, criterion, optimizer, num_epochs=5):\n",
        "    for epoch in range(num_epochs):\n",
        "        model.train()\n",
        "        epoch_loss = 0.0\n",
        "        for batch_X, batch_y in train_dataloader:\n",
        "            optimizer.zero_grad()\n",
        "            outputs = model(batch_X)\n",
        "            loss = criterion(outputs, batch_y)\n",
        "            loss.backward()\n",
        "            optimizer.step()\n",
        "            epoch_loss += loss.item()\n",
        "\n",
        "        avg_loss = epoch_loss / len(train_dataloader)\n",
        "        if (epoch + 1) % 100 == 0:\n",
        "            print(f'Epoch {epoch+1}/{num_epochs}, Average CE Loss: {avg_loss:.10f}')\n",
        "\n",
        "# Training the model\n",
        "train_model(nn_classifier, train_dataloader, criterion, optimizer, num_epochs=500)"
      ]
    },
    {
      "cell_type": "markdown",
      "id": "9d537f77",
      "metadata": {
        "id": "9d537f77"
      },
      "source": [
        "**Model Evaluation**"
      ]
    },
    {
      "cell_type": "markdown",
      "id": "26dbc244",
      "metadata": {
        "id": "26dbc244"
      },
      "source": [
        "Next, we'll evaluate the simple neural network model on the test set."
      ]
    },
    {
      "cell_type": "markdown",
      "id": "7e820cb7",
      "metadata": {
        "id": "7e820cb7"
      },
      "source": [
        "**Pre-Process the Testing Set**"
      ]
    },
    {
      "cell_type": "code",
      "execution_count": 33,
      "id": "994ef0b5",
      "metadata": {
        "id": "994ef0b5"
      },
      "outputs": [],
      "source": [
        "# Convert the testing texts and labels to lists\n",
        "test_texts = test_df['answer'].tolist()\n",
        "test_labels = test_df['focus_group'].tolist()\n",
        "\n",
        "# Encode and pad/truncate the testing sequences\n",
        "padded_test_seqs = [pad_or_truncate(encode_text(seq, vocab), MAX_SEQ_LENGTH) for seq in test_texts]\n",
        "\n",
        "# Convert testing sequences to tensors\n",
        "X_tensor_test = torch.tensor(padded_test_seqs)\n",
        "y_tensor_test = torch.tensor(test_labels, dtype=torch.long)\n",
        "\n",
        "# Batch the testing set\n",
        "from torch.utils.data import DataLoader, TensorDataset\n",
        "test_dataset = TensorDataset(X_tensor_test, y_tensor_test)\n",
        "test_dataloader = DataLoader(test_dataset, batch_size=8, shuffle=False)"
      ]
    },
    {
      "cell_type": "markdown",
      "id": "d487af86",
      "metadata": {
        "id": "d487af86"
      },
      "source": [
        "**Generate Testing Set Predictions**"
      ]
    },
    {
      "cell_type": "code",
      "execution_count": 34,
      "id": "4ad05385",
      "metadata": {
        "id": "4ad05385"
      },
      "outputs": [],
      "source": [
        "import torch.nn.functional as F\n",
        "\n",
        "def get_predictions_and_probabilities(model, test_loader):\n",
        "    model.eval()\n",
        "\n",
        "    all_probs = []\n",
        "    all_labels = []\n",
        "\n",
        "    with torch.no_grad():\n",
        "        for batch_X, batch_y in test_loader:\n",
        "            outputs = model(batch_X)\n",
        "            probs = F.softmax(outputs, dim=1)\n",
        "            all_probs.extend(probs.cpu().numpy())\n",
        "            predicted_labels = torch.argmax(outputs, dim=1)\n",
        "            all_labels.extend(predicted_labels.cpu().numpy())\n",
        "\n",
        "    return all_probs, all_labels\n",
        "\n",
        "# Generate predictions\n",
        "nn_pred_probs, nn_pred_labels = get_predictions_and_probabilities(nn_classifier, test_dataloader)"
      ]
    },
    {
      "cell_type": "markdown",
      "id": "8f8d584a",
      "metadata": {
        "id": "8f8d584a"
      },
      "source": [
        "**Evaluate the Neural Network**"
      ]
    },
    {
      "cell_type": "code",
      "execution_count": 35,
      "id": "57c12735",
      "metadata": {
        "colab": {
          "base_uri": "https://localhost:8080/"
        },
        "id": "57c12735",
        "outputId": "66e1b88f-1d2f-41d0-82b7-bb293905f05e"
      },
      "outputs": [
        {
          "name": "stdout",
          "output_type": "stream",
          "text": [
            "Confusion Matrix:\n",
            " [[13  0  0  0  1]\n",
            " [ 2 36  1  0  3]\n",
            " [ 1  3 20  1  4]\n",
            " [ 1  0  3  9  4]\n",
            " [ 0  0  1  0 18]]\n",
            "\n",
            "Classification Report:\n",
            "                                       precision    recall  f1-score   support\n",
            "\n",
            "  Neurological & Cognitive Disorders       0.76      0.93      0.84        14\n",
            "                             Cancers       0.92      0.86      0.89        42\n",
            "             Cardiovascular Diseases       0.80      0.69      0.74        29\n",
            "     Metabolic & Endocrine Disorders       0.90      0.53      0.67        17\n",
            "Other Age-Related & Immune Disorders       0.60      0.95      0.73        19\n",
            "\n",
            "                            accuracy                           0.79       121\n",
            "                           macro avg       0.80      0.79      0.77       121\n",
            "                        weighted avg       0.82      0.79      0.79       121\n",
            "\n"
          ]
        }
      ],
      "source": [
        "from sklearn.metrics import confusion_matrix, classification_report\n",
        "\n",
        "focus_group_names = [\"Neurological & Cognitive Disorders\", \"Cancers\", \"Cardiovascular Diseases\",\n",
        "                     \"Metabolic & Endocrine Disorders\", \"Other Age-Related & Immune Disorders\"]\n",
        "\n",
        "confusion_matrix = confusion_matrix(test_labels, nn_pred_labels)\n",
        "report = classification_report(test_labels, nn_pred_labels, target_names=focus_group_names)\n",
        "\n",
        "print(\"Confusion Matrix:\\n\", confusion_matrix)\n",
        "print(\"\\nClassification Report:\\n\", report)"
      ]
    },
    {
      "cell_type": "markdown",
      "id": "3a665fa6",
      "metadata": {
        "id": "3a665fa6"
      },
      "source": [
        "Nice, the simple neural network looks good, with an overall accuracy of 79%."
      ]
    },
    {
      "cell_type": "markdown",
      "id": "4a295830",
      "metadata": {
        "id": "4a295830"
      },
      "source": [
        "Let's quickly review each classification metric:\n",
        "\n",
        "* `Precision`: Based on all of the predictions made for a specific focus group, how many of the predictions did the model get right?\n",
        "* `Recall`: Based on all of the instances of a specific focus group, how many did the model correctly predict?\n",
        "* `F1-score`: The harmonic mean of precision and recall. A score closer to 1.0 indicates better performance."
      ]
    },
    {
      "cell_type": "markdown",
      "id": "392f7be9",
      "metadata": {
        "id": "392f7be9"
      },
      "source": [
        "Now, we breakdown the performance for each class:\n",
        "\n",
        "* **Neurological & Cognitive Disorders**: high recall of 93% and decent precision of 76%, indicating the model is effective at identifying this class.\n",
        "* **Cancers**: prettyhigh precision (few false positives) and recall (few false negatives) which is crucial in terminal diseases like cancer.\n",
        "* **Cardiovascular Diseases**: Good precision but average recall of 69%\n",
        "* **Metabolic & Endocrine Disorders**: Decent precision score but weak recall of 53% meaning the model is almost making random guess for the false negative cases.\n",
        "* **Other Age-Related & Immune Disorders**: Average precision but high recall scores, indicating the model is good at identifying false neagtives but not good at filtering out false positives.\n"
      ]
    },
    {
      "cell_type": "markdown",
      "id": "a762e4cb",
      "metadata": {
        "id": "a762e4cb"
      },
      "source": [
        "Overall, the simple neural network does a good job of classifying the medical texts into the five focus groups we created, but there are definetely some areas for improvement. We see that the worst-performing group is the \"Metabolic & Endocrine Disorders\" group, which has a low recall and f1-score. In the future, we could try upsampling or adding more related texts to the training set to improve performance."
      ]
    },
    {
      "cell_type": "markdown",
      "id": "f6c09622",
      "metadata": {
        "id": "f6c09622"
      },
      "source": [
        "## **Fine-Tune a BERT Transformer**"
      ]
    },
    {
      "cell_type": "markdown",
      "id": "90d635be",
      "metadata": {
        "id": "90d635be"
      },
      "source": [
        "Let us now train a more advanced BERT Transformer."
      ]
    },
    {
      "cell_type": "markdown",
      "id": "25750b9c",
      "metadata": {
        "id": "25750b9c"
      },
      "source": [
        "We'll use a specialized BERT called BiomedBERT from HuggingFace that has been pre_trained on medical texts like abstracts and full articles from PubMed."
      ]
    },
    {
      "cell_type": "code",
      "execution_count": null,
      "id": "95dc0d12",
      "metadata": {
        "colab": {
          "base_uri": "https://localhost:8080/",
          "height": 269,
          "referenced_widgets": [
            "489d8bb67f6c45d2bb2dda52359a1cc0",
            "3f8cc791fd594c96a389296ecf1c4160",
            "63d7e1056e414903951b3eab2afdb655",
            "4cab4ae35fc14ac2af136f499509076e",
            "2d1925a756ae4b9db94fb2f89602c10d",
            "e39e453238894a9291447319df58dc4d",
            "22a34e56a6d64dd7a9a4a34a6de3ca81",
            "86f3e467741e4df7a31f0906b43b869b",
            "d3d702eef2864750aa6998029f9e8a15",
            "9a889ab67d954caf8b94ea5661ff9569",
            "e64ddf7d511e491ea2e6b9e2bbaa1401",
            "4de80804192e420bbd6fc986ec296e16",
            "214bf68607df46868ef778126871f5cf",
            "4b8ae3eaac2f49ba90e281eaf1bde164",
            "46444ef75d5c4b27af958cf00ad81016",
            "8f8ebebce354455a9fbf3c8b0268adba",
            "53f2009379d14106b4d80d140035c19f",
            "87f65cd059fc49c6a6c4000f76d45a67",
            "08ee91d75c0b4ae38e3d1dd2c9ca3669",
            "4a7e4a506cd14b02b32893aba687b45c",
            "11bb609c7165439abff41f6d9ea5c358",
            "33e468153f7c4fe68fd2f7ed88a31b14",
            "4746d8baf8fc4157b5b20eb6883c6445",
            "b9263b313ea241bfb771db100175a681",
            "9ba9adf694534c4d909b424e126d32d1",
            "0c312728eb4e481092c2681b9892db02",
            "eaadec11ec294335bb7be944d1ce9909",
            "a99e1153c0f249a49afef3aec7493544",
            "c87a1ab60f0d4ee88f1cf6d7136db919",
            "8e1d8689364340e6a80fbe95b3d19244",
            "d34c5f179a334700ae7fa4b71d5239f9",
            "8430d0bd91b7432293966c33042927cb",
            "bddc711d1cee46a0a931faff485b0c05",
            "403dea0e7a354e2c8cbf0dc7383c5e04",
            "fc9735be30334fcd89a15078cfb08c16",
            "b89cd7f64743430f98fccd0a2688af86",
            "cddff120f4ca481a81f1159802175db6",
            "1982c4ff02a64c2094bdb0ad489ecb7e",
            "6bd986b27c954494aef5ea1f52704488",
            "80013ee5e5bf474f955dbfc56b47b9a1",
            "14311817768f474aa1cb739d71a7b337",
            "06f8fe5b734a411da4bc1e1b76a66ab0",
            "cd8159eac47745a8ae5aa7f84c549548",
            "635d799f302347cfa8ab475c9d1633ed"
          ]
        },
        "id": "95dc0d12",
        "outputId": "9cd1a8c3-f852-4ed2-ffe7-555fcdcc6f90"
      },
      "outputs": [],
      "source": [
        "from transformers import AutoTokenizer, AutoModelForSequenceClassification\n",
        "import torch\n",
        "\n",
        "# Loading BiomedBERT model and tokenizer\n",
        "model_name = \"microsoft/BiomedNLP-BiomedBERT-base-uncased-abstract-fulltext\"\n",
        "bert_tokenizer = AutoTokenizer.from_pretrained(model_name)\n",
        "bert_model = AutoModelForSequenceClassification.from_pretrained(model_name, num_labels=n_focus_groups)"
      ]
    },
    {
      "cell_type": "code",
      "execution_count": 38,
      "id": "0afcda44",
      "metadata": {
        "colab": {
          "base_uri": "https://localhost:8080/"
        },
        "id": "0afcda44",
        "outputId": "3f9e5b5c-bdb6-4b5b-ca21-c9bd16426b0a"
      },
      "outputs": [
        {
          "name": "stdout",
          "output_type": "stream",
          "text": [
            "Using device: cuda\n"
          ]
        }
      ],
      "source": [
        "# Move model to GPU\n",
        "device = torch.device(\"cuda\" if torch.cuda.is_available() else \"cpu\")\n",
        "print(f\"Using device: {device}\")\n",
        "bert_model = bert_model.to(device)"
      ]
    },
    {
      "cell_type": "markdown",
      "id": "ab4c3349",
      "metadata": {
        "id": "ab4c3349"
      },
      "source": [
        "**Freeze and Unfreeze Layers**\n",
        "\n",
        "Next, we'll freeze and unfreeze specific layers in the BiomedBERT:\n",
        "\n",
        "1. Initial freezing of all layers\n",
        "2. Unfreeze the classification head\n",
        "3. Unfreeze the last 3 transformer layers\n",
        "4. Unfreeze the pooler layer"
      ]
    },
    {
      "cell_type": "code",
      "execution_count": 39,
      "id": "f1b4acaa",
      "metadata": {
        "id": "f1b4acaa"
      },
      "outputs": [],
      "source": [
        "# Freeze all parameters first\n",
        "for param in bert_model.parameters():\n",
        "    param.requires_grad = False\n",
        "\n",
        "# Unfreeze the classification head\n",
        "for param in bert_model.classifier.parameters():\n",
        "    param.requires_grad = True\n",
        "\n",
        "# Unfreeze the last 3 layers of the encoder (layers 9-11)\n",
        "for i in range(9, 12):\n",
        "    for param in bert_model.bert.encoder.layer[i].parameters():\n",
        "        param.requires_grad = True\n",
        "\n",
        "# Unfreeze the pooler (connecting the BERT output to the classification head)\n",
        "for param in bert_model.bert.pooler.parameters():\n",
        "    param.requires_grad = True"
      ]
    },
    {
      "cell_type": "markdown",
      "id": "81d4d8ae",
      "metadata": {
        "id": "81d4d8ae"
      },
      "source": [
        "**Pre-Process the Training Text for BiomedBERT**\n",
        "To prepare the masked training set for a simple neural network using BiomedBERT, follow these steps:\n",
        "- Set the maximum sequence length to 512 tokens, which is standard for BiomedBERT.\n",
        "- Tokenize the training texts using the BiomedBERT tokenizer, ensuring consistent padding and truncation.\n",
        "- Convert the tokenized texts and corresponding labels into PyTorch tensors for model input.\n",
        "- Organize the data into batches using a DataLoader to streamline training.\n",
        "\n",
        "Note: The training set consists of masked answer texts, with all focus group labels removed, ensuring the model learns from de-identified content.\n"
      ]
    },
    {
      "cell_type": "code",
      "execution_count": 40,
      "id": "YFmhv9pIVD45",
      "metadata": {
        "id": "YFmhv9pIVD45"
      },
      "outputs": [],
      "source": [
        "MAX_SEQ_LENGTH = 512\n",
        "\n",
        "X_train = bert_tokenizer(masked_train_texts, padding=True, truncation=True, return_tensors=\"pt\", max_length=MAX_SEQ_LENGTH)\n",
        "y_train = torch.tensor(train_labels, dtype=torch.long)\n",
        "\n",
        "from torch.utils.data import DataLoader, TensorDataset\n",
        "train_dataset = TensorDataset(\n",
        "    X_train['input_ids'].to(device),\n",
        "    X_train['attention_mask'].to(device),\n",
        "    y_train.to(device)\n",
        ")\n",
        "train_loader = DataLoader(train_dataset, batch_size=16, shuffle=True)"
      ]
    },
    {
      "cell_type": "markdown",
      "id": "9At4MewMVIS7",
      "metadata": {
        "id": "9At4MewMVIS7"
      },
      "source": [
        "**Specify Loss Function and Optimizer**"
      ]
    },
    {
      "cell_type": "code",
      "execution_count": 41,
      "id": "l7BjKlW-VL9a",
      "metadata": {
        "id": "l7BjKlW-VL9a"
      },
      "outputs": [],
      "source": [
        "import torch.nn as nn\n",
        "import torch.optim as optim\n",
        "\n",
        "optimizer = torch.optim.AdamW(filter(lambda p: p.requires_grad, bert_model.parameters()), lr=0.00003)\n",
        "criterion = nn.CrossEntropyLoss()"
      ]
    },
    {
      "cell_type": "markdown",
      "id": "VGSZ78wAVhRH",
      "metadata": {
        "id": "VGSZ78wAVhRH"
      },
      "source": [
        "**Fine-Tuning Loop**"
      ]
    },
    {
      "cell_type": "code",
      "execution_count": 42,
      "id": "zcvKCxvTVlEe",
      "metadata": {
        "colab": {
          "base_uri": "https://localhost:8080/"
        },
        "id": "zcvKCxvTVlEe",
        "outputId": "e161ea8f-612a-4c7e-8312-12e6c9645055"
      },
      "outputs": [
        {
          "name": "stdout",
          "output_type": "stream",
          "text": [
            "Epoch 1, Average CE Loss: 1.509796557887908\n",
            "Epoch 2, Average CE Loss: 1.0195941030979156\n",
            "Epoch 3, Average CE Loss: 0.39130429106373943\n",
            "Epoch 4, Average CE Loss: 0.17615357870536466\n",
            "Epoch 5, Average CE Loss: 0.09218463812383913\n",
            "Epoch 6, Average CE Loss: 0.054066027604764505\n",
            "Epoch 7, Average CE Loss: 0.03439171726424848\n",
            "Epoch 8, Average CE Loss: 0.01991041130836933\n",
            "Epoch 9, Average CE Loss: 0.015848596249857256\n",
            "Epoch 10, Average CE Loss: 0.011627141972102465\n"
          ]
        }
      ],
      "source": [
        "num_epochs = 10\n",
        "for epoch in range(num_epochs):\n",
        "    bert_model.train()\n",
        "    total_loss = 0.0\n",
        "\n",
        "    for batch_X, batch_attention_mask, batch_y in train_loader:\n",
        "        optimizer.zero_grad()\n",
        "        outputs = bert_model(input_ids=batch_X,\n",
        "                                     attention_mask=batch_attention_mask)\n",
        "        logits = outputs.logits\n",
        "        loss = criterion(logits, batch_y)\n",
        "        total_loss += loss.item()\n",
        "        loss.backward()\n",
        "        optimizer.step()\n",
        "\n",
        "    avg_loss = total_loss / len(train_loader)\n",
        "    if (epoch + 1) % 1 == 0:\n",
        "        print(f'Epoch {epoch+1}, Average CE Loss: {avg_loss}')"
      ]
    },
    {
      "cell_type": "markdown",
      "id": "J0ooRlDFVwHv",
      "metadata": {
        "id": "J0ooRlDFVwHv"
      },
      "source": [
        "**Model Evaluation**\n",
        "\n",
        "We now, evaluate the fine-tuned BiomedBERT and compare its performance against the simple neural network"
      ]
    },
    {
      "cell_type": "markdown",
      "id": "PLO0x3iOWFaj",
      "metadata": {
        "id": "PLO0x3iOWFaj"
      },
      "source": [
        "**Pre-Process Testing Set**"
      ]
    },
    {
      "cell_type": "code",
      "execution_count": 43,
      "id": "v4aiyzMbWTeF",
      "metadata": {
        "id": "v4aiyzMbWTeF"
      },
      "outputs": [],
      "source": [
        "# Tokenize and convert to tensors\n",
        "X_test = bert_tokenizer(test_texts, padding=True, truncation=True, return_tensors=\"pt\", max_length=MAX_SEQ_LENGTH)\n",
        "y_test = torch.tensor(test_labels, dtype=torch.long)\n",
        "\n",
        "# Batch the testing set\n",
        "from torch.utils.data import DataLoader, TensorDataset\n",
        "test_dataset = TensorDataset(\n",
        "    X_test['input_ids'].to(device),\n",
        "    X_test['attention_mask'].to(device),\n",
        "    y_test.to(device))\n",
        "test_loader = DataLoader(test_dataset, batch_size=8, shuffle=False)"
      ]
    },
    {
      "cell_type": "markdown",
      "id": "bZwSMZBzXBaE",
      "metadata": {
        "id": "bZwSMZBzXBaE"
      },
      "source": [
        "**Generate Testing Set Predictions**"
      ]
    },
    {
      "cell_type": "code",
      "execution_count": 44,
      "id": "B8zI5C0ZXEbZ",
      "metadata": {
        "id": "B8zI5C0ZXEbZ"
      },
      "outputs": [],
      "source": [
        "import torch.nn.functional as F\n",
        "\n",
        "bert_model.eval()\n",
        "bert_pred_probs = []\n",
        "bert_pred_labels = []\n",
        "\n",
        "with torch.no_grad():\n",
        "    for batch_X, batch_attention_mask, batch_y in test_loader:\n",
        "        outputs = bert_model(input_ids = batch_X, attention_mask = batch_attention_mask)\n",
        "        logits = outputs.logits\n",
        "        probs = F.softmax(logits, dim=1)\n",
        "        bert_pred_probs.extend(probs.cpu().numpy())\n",
        "        predicted_labels = torch.argmax(logits, dim=1)\n",
        "        bert_pred_labels.extend(predicted_labels.cpu().numpy())"
      ]
    },
    {
      "cell_type": "markdown",
      "id": "PbA-FcfVX3AV",
      "metadata": {
        "id": "PbA-FcfVX3AV"
      },
      "source": [
        "**Evaluate the Fine-Tuned BiomedBERT**"
      ]
    },
    {
      "cell_type": "code",
      "execution_count": 45,
      "id": "ZQmsJD1gX6mU",
      "metadata": {
        "colab": {
          "base_uri": "https://localhost:8080/"
        },
        "id": "ZQmsJD1gX6mU",
        "outputId": "52a59a23-936d-445f-a946-da4d2ed1b55e"
      },
      "outputs": [
        {
          "name": "stdout",
          "output_type": "stream",
          "text": [
            "Confusion Matrix:\n",
            " [[14  0  0  0  0]\n",
            " [ 0 41  0  0  1]\n",
            " [ 0  0 29  0  0]\n",
            " [ 0  0  0 17  0]\n",
            " [ 0  0  0  0 19]]\n",
            "\n",
            "Classification Report:\n",
            "                                       precision    recall  f1-score   support\n",
            "\n",
            "  Neurological & Cognitive Disorders       1.00      1.00      1.00        14\n",
            "                             Cancers       1.00      0.98      0.99        42\n",
            "             Cardiovascular Diseases       1.00      1.00      1.00        29\n",
            "     Metabolic & Endocrine Disorders       1.00      1.00      1.00        17\n",
            "Other Age-Related & Immune Disorders       0.95      1.00      0.97        19\n",
            "\n",
            "                            accuracy                           0.99       121\n",
            "                           macro avg       0.99      1.00      0.99       121\n",
            "                        weighted avg       0.99      0.99      0.99       121\n",
            "\n"
          ]
        }
      ],
      "source": [
        "from sklearn.metrics import confusion_matrix, classification_report\n",
        "\n",
        "focus_group_names = [\"Neurological & Cognitive Disorders\", \"Cancers\", \"Cardiovascular Diseases\",\n",
        "                     \"Metabolic & Endocrine Disorders\", \"Other Age-Related & Immune Disorders\"]\n",
        "\n",
        "confusion_matrix = confusion_matrix(test_labels, bert_pred_labels)\n",
        "report = classification_report(test_labels, bert_pred_labels, target_names=focus_group_names)\n",
        "\n",
        "print(\"Confusion Matrix:\\n\", confusion_matrix)\n",
        "print(\"\\nClassification Report:\\n\", report)"
      ]
    },
    {
      "cell_type": "markdown",
      "id": "MDYD3PXTYuit",
      "metadata": {
        "id": "MDYD3PXTYuit"
      },
      "source": [
        "### Performance Comparison: BiomedBERT vs. Simple Neural Network\n",
        "\n",
        "The **fine-tuned BiomedBERT** dramatically outperforms the simple neural network, delivering **near-perfect classification scores** across all five medical focus groups. Its precision and recall metrics are consistently outstanding, showcasing its deep understanding of biomedical language.\n",
        "\n",
        "---\n",
        "\n",
        "### Class-Wise Breakdown\n",
        "\n",
        "| Focus Group                            | Precision       | Recall         | Notes                                                                 |\n",
        "|----------------------------------------|------------------|----------------|-----------------------------------------------------------------------|\n",
        "| **Neurological & Cognitive Disorders** |  Perfect        |  Perfect      | Flawless classification                                               |\n",
        "| **Cancers**                            |  Perfect        |  Near-perfect | Slight drop in recall, but still exceptional                          |\n",
        "| **Cardiovascular Diseases**            |  Near-perfect   |  Perfect      | Strong identification of relevant texts                              |\n",
        "| **Metabolic & Endocrine Disorders**    |  Perfect        |  High         | Huge improvement over neural net (53% recall previously)              |\n",
        "| **Other Age-Related & Immune Disorders** |  High         |  Perfect      | Robust performance despite class complexity                          |\n",
        "\n",
        "---\n",
        "\n",
        "### Why BiomedBERT Excels\n",
        "\n",
        "Several factors contribute to BiomedBERT’s superior performance:\n",
        "\n",
        "- **Domain-Specific Pretraining**: BiomedBERT is trained on vast biomedical corpora (e.g., PubMed), giving it a rich understanding of medical terminology and context.\n",
        "- **Transformer Architecture**: Its attention mechanisms allow it to capture nuanced relationships and patterns in clinical text that simpler models miss.\n",
        "- **Contextual Embeddings**: Unlike static embeddings, BiomedBERT dynamically adjusts word representations based on surrounding context—critical for medical language.\n",
        "\n",
        "---\n",
        "\n",
        "### Conclusion\n",
        "\n",
        "For medical text classification, **specialized BiomedBERT is clearly the optimal choice**. Its ability to generalize across diverse clinical categories and outperform simpler architectures makes it the gold standard for this task.\n"
      ]
    }
  ],
  "metadata": {
    "accelerator": "GPU",
    "colab": {
      "gpuType": "T4",
      "provenance": []
    },
    "kernelspec": {
      "display_name": "my_venv (3.12.7)",
      "language": "python",
      "name": "python3"
    },
    "language_info": {
      "codemirror_mode": {
        "name": "ipython",
        "version": 3
      },
      "file_extension": ".py",
      "mimetype": "text/x-python",
      "name": "python",
      "nbconvert_exporter": "python",
      "pygments_lexer": "ipython3",
      "version": "3.12.7"
    },
    "widgets": {
      "application/vnd.jupyter.widget-state+json": {
        "06f8fe5b734a411da4bc1e1b76a66ab0": {
          "model_module": "@jupyter-widgets/controls",
          "model_module_version": "1.5.0",
          "model_name": "ProgressStyleModel",
          "state": {
            "_model_module": "@jupyter-widgets/controls",
            "_model_module_version": "1.5.0",
            "_model_name": "ProgressStyleModel",
            "_view_count": null,
            "_view_module": "@jupyter-widgets/base",
            "_view_module_version": "1.2.0",
            "_view_name": "StyleView",
            "bar_color": null,
            "description_width": ""
          }
        },
        "08ee91d75c0b4ae38e3d1dd2c9ca3669": {
          "model_module": "@jupyter-widgets/base",
          "model_module_version": "1.2.0",
          "model_name": "LayoutModel",
          "state": {
            "_model_module": "@jupyter-widgets/base",
            "_model_module_version": "1.2.0",
            "_model_name": "LayoutModel",
            "_view_count": null,
            "_view_module": "@jupyter-widgets/base",
            "_view_module_version": "1.2.0",
            "_view_name": "LayoutView",
            "align_content": null,
            "align_items": null,
            "align_self": null,
            "border": null,
            "bottom": null,
            "display": null,
            "flex": null,
            "flex_flow": null,
            "grid_area": null,
            "grid_auto_columns": null,
            "grid_auto_flow": null,
            "grid_auto_rows": null,
            "grid_column": null,
            "grid_gap": null,
            "grid_row": null,
            "grid_template_areas": null,
            "grid_template_columns": null,
            "grid_template_rows": null,
            "height": null,
            "justify_content": null,
            "justify_items": null,
            "left": null,
            "margin": null,
            "max_height": null,
            "max_width": null,
            "min_height": null,
            "min_width": null,
            "object_fit": null,
            "object_position": null,
            "order": null,
            "overflow": null,
            "overflow_x": null,
            "overflow_y": null,
            "padding": null,
            "right": null,
            "top": null,
            "visibility": null,
            "width": null
          }
        },
        "0c312728eb4e481092c2681b9892db02": {
          "model_module": "@jupyter-widgets/controls",
          "model_module_version": "1.5.0",
          "model_name": "HTMLModel",
          "state": {
            "_dom_classes": [],
            "_model_module": "@jupyter-widgets/controls",
            "_model_module_version": "1.5.0",
            "_model_name": "HTMLModel",
            "_view_count": null,
            "_view_module": "@jupyter-widgets/controls",
            "_view_module_version": "1.5.0",
            "_view_name": "HTMLView",
            "description": "",
            "description_tooltip": null,
            "layout": "IPY_MODEL_8430d0bd91b7432293966c33042927cb",
            "placeholder": "​",
            "style": "IPY_MODEL_bddc711d1cee46a0a931faff485b0c05",
            "value": " 226k/? [00:00&lt;00:00, 13.0MB/s]"
          }
        },
        "11bb609c7165439abff41f6d9ea5c358": {
          "model_module": "@jupyter-widgets/base",
          "model_module_version": "1.2.0",
          "model_name": "LayoutModel",
          "state": {
            "_model_module": "@jupyter-widgets/base",
            "_model_module_version": "1.2.0",
            "_model_name": "LayoutModel",
            "_view_count": null,
            "_view_module": "@jupyter-widgets/base",
            "_view_module_version": "1.2.0",
            "_view_name": "LayoutView",
            "align_content": null,
            "align_items": null,
            "align_self": null,
            "border": null,
            "bottom": null,
            "display": null,
            "flex": null,
            "flex_flow": null,
            "grid_area": null,
            "grid_auto_columns": null,
            "grid_auto_flow": null,
            "grid_auto_rows": null,
            "grid_column": null,
            "grid_gap": null,
            "grid_row": null,
            "grid_template_areas": null,
            "grid_template_columns": null,
            "grid_template_rows": null,
            "height": null,
            "justify_content": null,
            "justify_items": null,
            "left": null,
            "margin": null,
            "max_height": null,
            "max_width": null,
            "min_height": null,
            "min_width": null,
            "object_fit": null,
            "object_position": null,
            "order": null,
            "overflow": null,
            "overflow_x": null,
            "overflow_y": null,
            "padding": null,
            "right": null,
            "top": null,
            "visibility": null,
            "width": null
          }
        },
        "14311817768f474aa1cb739d71a7b337": {
          "model_module": "@jupyter-widgets/base",
          "model_module_version": "1.2.0",
          "model_name": "LayoutModel",
          "state": {
            "_model_module": "@jupyter-widgets/base",
            "_model_module_version": "1.2.0",
            "_model_name": "LayoutModel",
            "_view_count": null,
            "_view_module": "@jupyter-widgets/base",
            "_view_module_version": "1.2.0",
            "_view_name": "LayoutView",
            "align_content": null,
            "align_items": null,
            "align_self": null,
            "border": null,
            "bottom": null,
            "display": null,
            "flex": null,
            "flex_flow": null,
            "grid_area": null,
            "grid_auto_columns": null,
            "grid_auto_flow": null,
            "grid_auto_rows": null,
            "grid_column": null,
            "grid_gap": null,
            "grid_row": null,
            "grid_template_areas": null,
            "grid_template_columns": null,
            "grid_template_rows": null,
            "height": null,
            "justify_content": null,
            "justify_items": null,
            "left": null,
            "margin": null,
            "max_height": null,
            "max_width": null,
            "min_height": null,
            "min_width": null,
            "object_fit": null,
            "object_position": null,
            "order": null,
            "overflow": null,
            "overflow_x": null,
            "overflow_y": null,
            "padding": null,
            "right": null,
            "top": null,
            "visibility": null,
            "width": null
          }
        },
        "1982c4ff02a64c2094bdb0ad489ecb7e": {
          "model_module": "@jupyter-widgets/base",
          "model_module_version": "1.2.0",
          "model_name": "LayoutModel",
          "state": {
            "_model_module": "@jupyter-widgets/base",
            "_model_module_version": "1.2.0",
            "_model_name": "LayoutModel",
            "_view_count": null,
            "_view_module": "@jupyter-widgets/base",
            "_view_module_version": "1.2.0",
            "_view_name": "LayoutView",
            "align_content": null,
            "align_items": null,
            "align_self": null,
            "border": null,
            "bottom": null,
            "display": null,
            "flex": null,
            "flex_flow": null,
            "grid_area": null,
            "grid_auto_columns": null,
            "grid_auto_flow": null,
            "grid_auto_rows": null,
            "grid_column": null,
            "grid_gap": null,
            "grid_row": null,
            "grid_template_areas": null,
            "grid_template_columns": null,
            "grid_template_rows": null,
            "height": null,
            "justify_content": null,
            "justify_items": null,
            "left": null,
            "margin": null,
            "max_height": null,
            "max_width": null,
            "min_height": null,
            "min_width": null,
            "object_fit": null,
            "object_position": null,
            "order": null,
            "overflow": null,
            "overflow_x": null,
            "overflow_y": null,
            "padding": null,
            "right": null,
            "top": null,
            "visibility": null,
            "width": null
          }
        },
        "214bf68607df46868ef778126871f5cf": {
          "model_module": "@jupyter-widgets/controls",
          "model_module_version": "1.5.0",
          "model_name": "HTMLModel",
          "state": {
            "_dom_classes": [],
            "_model_module": "@jupyter-widgets/controls",
            "_model_module_version": "1.5.0",
            "_model_name": "HTMLModel",
            "_view_count": null,
            "_view_module": "@jupyter-widgets/controls",
            "_view_module_version": "1.5.0",
            "_view_name": "HTMLView",
            "description": "",
            "description_tooltip": null,
            "layout": "IPY_MODEL_53f2009379d14106b4d80d140035c19f",
            "placeholder": "​",
            "style": "IPY_MODEL_87f65cd059fc49c6a6c4000f76d45a67",
            "value": "config.json: 100%"
          }
        },
        "22a34e56a6d64dd7a9a4a34a6de3ca81": {
          "model_module": "@jupyter-widgets/controls",
          "model_module_version": "1.5.0",
          "model_name": "DescriptionStyleModel",
          "state": {
            "_model_module": "@jupyter-widgets/controls",
            "_model_module_version": "1.5.0",
            "_model_name": "DescriptionStyleModel",
            "_view_count": null,
            "_view_module": "@jupyter-widgets/base",
            "_view_module_version": "1.2.0",
            "_view_name": "StyleView",
            "description_width": ""
          }
        },
        "2d1925a756ae4b9db94fb2f89602c10d": {
          "model_module": "@jupyter-widgets/base",
          "model_module_version": "1.2.0",
          "model_name": "LayoutModel",
          "state": {
            "_model_module": "@jupyter-widgets/base",
            "_model_module_version": "1.2.0",
            "_model_name": "LayoutModel",
            "_view_count": null,
            "_view_module": "@jupyter-widgets/base",
            "_view_module_version": "1.2.0",
            "_view_name": "LayoutView",
            "align_content": null,
            "align_items": null,
            "align_self": null,
            "border": null,
            "bottom": null,
            "display": null,
            "flex": null,
            "flex_flow": null,
            "grid_area": null,
            "grid_auto_columns": null,
            "grid_auto_flow": null,
            "grid_auto_rows": null,
            "grid_column": null,
            "grid_gap": null,
            "grid_row": null,
            "grid_template_areas": null,
            "grid_template_columns": null,
            "grid_template_rows": null,
            "height": null,
            "justify_content": null,
            "justify_items": null,
            "left": null,
            "margin": null,
            "max_height": null,
            "max_width": null,
            "min_height": null,
            "min_width": null,
            "object_fit": null,
            "object_position": null,
            "order": null,
            "overflow": null,
            "overflow_x": null,
            "overflow_y": null,
            "padding": null,
            "right": null,
            "top": null,
            "visibility": null,
            "width": null
          }
        },
        "33e468153f7c4fe68fd2f7ed88a31b14": {
          "model_module": "@jupyter-widgets/controls",
          "model_module_version": "1.5.0",
          "model_name": "DescriptionStyleModel",
          "state": {
            "_model_module": "@jupyter-widgets/controls",
            "_model_module_version": "1.5.0",
            "_model_name": "DescriptionStyleModel",
            "_view_count": null,
            "_view_module": "@jupyter-widgets/base",
            "_view_module_version": "1.2.0",
            "_view_name": "StyleView",
            "description_width": ""
          }
        },
        "3f8cc791fd594c96a389296ecf1c4160": {
          "model_module": "@jupyter-widgets/controls",
          "model_module_version": "1.5.0",
          "model_name": "HTMLModel",
          "state": {
            "_dom_classes": [],
            "_model_module": "@jupyter-widgets/controls",
            "_model_module_version": "1.5.0",
            "_model_name": "HTMLModel",
            "_view_count": null,
            "_view_module": "@jupyter-widgets/controls",
            "_view_module_version": "1.5.0",
            "_view_name": "HTMLView",
            "description": "",
            "description_tooltip": null,
            "layout": "IPY_MODEL_e39e453238894a9291447319df58dc4d",
            "placeholder": "​",
            "style": "IPY_MODEL_22a34e56a6d64dd7a9a4a34a6de3ca81",
            "value": "tokenizer_config.json: 100%"
          }
        },
        "403dea0e7a354e2c8cbf0dc7383c5e04": {
          "model_module": "@jupyter-widgets/controls",
          "model_module_version": "1.5.0",
          "model_name": "HBoxModel",
          "state": {
            "_dom_classes": [],
            "_model_module": "@jupyter-widgets/controls",
            "_model_module_version": "1.5.0",
            "_model_name": "HBoxModel",
            "_view_count": null,
            "_view_module": "@jupyter-widgets/controls",
            "_view_module_version": "1.5.0",
            "_view_name": "HBoxView",
            "box_style": "",
            "children": [
              "IPY_MODEL_fc9735be30334fcd89a15078cfb08c16",
              "IPY_MODEL_b89cd7f64743430f98fccd0a2688af86",
              "IPY_MODEL_cddff120f4ca481a81f1159802175db6"
            ],
            "layout": "IPY_MODEL_1982c4ff02a64c2094bdb0ad489ecb7e"
          }
        },
        "46444ef75d5c4b27af958cf00ad81016": {
          "model_module": "@jupyter-widgets/controls",
          "model_module_version": "1.5.0",
          "model_name": "HTMLModel",
          "state": {
            "_dom_classes": [],
            "_model_module": "@jupyter-widgets/controls",
            "_model_module_version": "1.5.0",
            "_model_name": "HTMLModel",
            "_view_count": null,
            "_view_module": "@jupyter-widgets/controls",
            "_view_module_version": "1.5.0",
            "_view_name": "HTMLView",
            "description": "",
            "description_tooltip": null,
            "layout": "IPY_MODEL_11bb609c7165439abff41f6d9ea5c358",
            "placeholder": "​",
            "style": "IPY_MODEL_33e468153f7c4fe68fd2f7ed88a31b14",
            "value": " 385/385 [00:00&lt;00:00, 41.8kB/s]"
          }
        },
        "4746d8baf8fc4157b5b20eb6883c6445": {
          "model_module": "@jupyter-widgets/controls",
          "model_module_version": "1.5.0",
          "model_name": "HBoxModel",
          "state": {
            "_dom_classes": [],
            "_model_module": "@jupyter-widgets/controls",
            "_model_module_version": "1.5.0",
            "_model_name": "HBoxModel",
            "_view_count": null,
            "_view_module": "@jupyter-widgets/controls",
            "_view_module_version": "1.5.0",
            "_view_name": "HBoxView",
            "box_style": "",
            "children": [
              "IPY_MODEL_b9263b313ea241bfb771db100175a681",
              "IPY_MODEL_9ba9adf694534c4d909b424e126d32d1",
              "IPY_MODEL_0c312728eb4e481092c2681b9892db02"
            ],
            "layout": "IPY_MODEL_eaadec11ec294335bb7be944d1ce9909"
          }
        },
        "489d8bb67f6c45d2bb2dda52359a1cc0": {
          "model_module": "@jupyter-widgets/controls",
          "model_module_version": "1.5.0",
          "model_name": "HBoxModel",
          "state": {
            "_dom_classes": [],
            "_model_module": "@jupyter-widgets/controls",
            "_model_module_version": "1.5.0",
            "_model_name": "HBoxModel",
            "_view_count": null,
            "_view_module": "@jupyter-widgets/controls",
            "_view_module_version": "1.5.0",
            "_view_name": "HBoxView",
            "box_style": "",
            "children": [
              "IPY_MODEL_3f8cc791fd594c96a389296ecf1c4160",
              "IPY_MODEL_63d7e1056e414903951b3eab2afdb655",
              "IPY_MODEL_4cab4ae35fc14ac2af136f499509076e"
            ],
            "layout": "IPY_MODEL_2d1925a756ae4b9db94fb2f89602c10d"
          }
        },
        "4a7e4a506cd14b02b32893aba687b45c": {
          "model_module": "@jupyter-widgets/controls",
          "model_module_version": "1.5.0",
          "model_name": "ProgressStyleModel",
          "state": {
            "_model_module": "@jupyter-widgets/controls",
            "_model_module_version": "1.5.0",
            "_model_name": "ProgressStyleModel",
            "_view_count": null,
            "_view_module": "@jupyter-widgets/base",
            "_view_module_version": "1.2.0",
            "_view_name": "StyleView",
            "bar_color": null,
            "description_width": ""
          }
        },
        "4b8ae3eaac2f49ba90e281eaf1bde164": {
          "model_module": "@jupyter-widgets/controls",
          "model_module_version": "1.5.0",
          "model_name": "FloatProgressModel",
          "state": {
            "_dom_classes": [],
            "_model_module": "@jupyter-widgets/controls",
            "_model_module_version": "1.5.0",
            "_model_name": "FloatProgressModel",
            "_view_count": null,
            "_view_module": "@jupyter-widgets/controls",
            "_view_module_version": "1.5.0",
            "_view_name": "ProgressView",
            "bar_style": "success",
            "description": "",
            "description_tooltip": null,
            "layout": "IPY_MODEL_08ee91d75c0b4ae38e3d1dd2c9ca3669",
            "max": 385,
            "min": 0,
            "orientation": "horizontal",
            "style": "IPY_MODEL_4a7e4a506cd14b02b32893aba687b45c",
            "value": 385
          }
        },
        "4cab4ae35fc14ac2af136f499509076e": {
          "model_module": "@jupyter-widgets/controls",
          "model_module_version": "1.5.0",
          "model_name": "HTMLModel",
          "state": {
            "_dom_classes": [],
            "_model_module": "@jupyter-widgets/controls",
            "_model_module_version": "1.5.0",
            "_model_name": "HTMLModel",
            "_view_count": null,
            "_view_module": "@jupyter-widgets/controls",
            "_view_module_version": "1.5.0",
            "_view_name": "HTMLView",
            "description": "",
            "description_tooltip": null,
            "layout": "IPY_MODEL_9a889ab67d954caf8b94ea5661ff9569",
            "placeholder": "​",
            "style": "IPY_MODEL_e64ddf7d511e491ea2e6b9e2bbaa1401",
            "value": " 28.0/28.0 [00:00&lt;00:00, 2.00kB/s]"
          }
        },
        "4de80804192e420bbd6fc986ec296e16": {
          "model_module": "@jupyter-widgets/controls",
          "model_module_version": "1.5.0",
          "model_name": "HBoxModel",
          "state": {
            "_dom_classes": [],
            "_model_module": "@jupyter-widgets/controls",
            "_model_module_version": "1.5.0",
            "_model_name": "HBoxModel",
            "_view_count": null,
            "_view_module": "@jupyter-widgets/controls",
            "_view_module_version": "1.5.0",
            "_view_name": "HBoxView",
            "box_style": "",
            "children": [
              "IPY_MODEL_214bf68607df46868ef778126871f5cf",
              "IPY_MODEL_4b8ae3eaac2f49ba90e281eaf1bde164",
              "IPY_MODEL_46444ef75d5c4b27af958cf00ad81016"
            ],
            "layout": "IPY_MODEL_8f8ebebce354455a9fbf3c8b0268adba"
          }
        },
        "53f2009379d14106b4d80d140035c19f": {
          "model_module": "@jupyter-widgets/base",
          "model_module_version": "1.2.0",
          "model_name": "LayoutModel",
          "state": {
            "_model_module": "@jupyter-widgets/base",
            "_model_module_version": "1.2.0",
            "_model_name": "LayoutModel",
            "_view_count": null,
            "_view_module": "@jupyter-widgets/base",
            "_view_module_version": "1.2.0",
            "_view_name": "LayoutView",
            "align_content": null,
            "align_items": null,
            "align_self": null,
            "border": null,
            "bottom": null,
            "display": null,
            "flex": null,
            "flex_flow": null,
            "grid_area": null,
            "grid_auto_columns": null,
            "grid_auto_flow": null,
            "grid_auto_rows": null,
            "grid_column": null,
            "grid_gap": null,
            "grid_row": null,
            "grid_template_areas": null,
            "grid_template_columns": null,
            "grid_template_rows": null,
            "height": null,
            "justify_content": null,
            "justify_items": null,
            "left": null,
            "margin": null,
            "max_height": null,
            "max_width": null,
            "min_height": null,
            "min_width": null,
            "object_fit": null,
            "object_position": null,
            "order": null,
            "overflow": null,
            "overflow_x": null,
            "overflow_y": null,
            "padding": null,
            "right": null,
            "top": null,
            "visibility": null,
            "width": null
          }
        },
        "635d799f302347cfa8ab475c9d1633ed": {
          "model_module": "@jupyter-widgets/controls",
          "model_module_version": "1.5.0",
          "model_name": "DescriptionStyleModel",
          "state": {
            "_model_module": "@jupyter-widgets/controls",
            "_model_module_version": "1.5.0",
            "_model_name": "DescriptionStyleModel",
            "_view_count": null,
            "_view_module": "@jupyter-widgets/base",
            "_view_module_version": "1.2.0",
            "_view_name": "StyleView",
            "description_width": ""
          }
        },
        "63d7e1056e414903951b3eab2afdb655": {
          "model_module": "@jupyter-widgets/controls",
          "model_module_version": "1.5.0",
          "model_name": "FloatProgressModel",
          "state": {
            "_dom_classes": [],
            "_model_module": "@jupyter-widgets/controls",
            "_model_module_version": "1.5.0",
            "_model_name": "FloatProgressModel",
            "_view_count": null,
            "_view_module": "@jupyter-widgets/controls",
            "_view_module_version": "1.5.0",
            "_view_name": "ProgressView",
            "bar_style": "success",
            "description": "",
            "description_tooltip": null,
            "layout": "IPY_MODEL_86f3e467741e4df7a31f0906b43b869b",
            "max": 28,
            "min": 0,
            "orientation": "horizontal",
            "style": "IPY_MODEL_d3d702eef2864750aa6998029f9e8a15",
            "value": 28
          }
        },
        "6bd986b27c954494aef5ea1f52704488": {
          "model_module": "@jupyter-widgets/base",
          "model_module_version": "1.2.0",
          "model_name": "LayoutModel",
          "state": {
            "_model_module": "@jupyter-widgets/base",
            "_model_module_version": "1.2.0",
            "_model_name": "LayoutModel",
            "_view_count": null,
            "_view_module": "@jupyter-widgets/base",
            "_view_module_version": "1.2.0",
            "_view_name": "LayoutView",
            "align_content": null,
            "align_items": null,
            "align_self": null,
            "border": null,
            "bottom": null,
            "display": null,
            "flex": null,
            "flex_flow": null,
            "grid_area": null,
            "grid_auto_columns": null,
            "grid_auto_flow": null,
            "grid_auto_rows": null,
            "grid_column": null,
            "grid_gap": null,
            "grid_row": null,
            "grid_template_areas": null,
            "grid_template_columns": null,
            "grid_template_rows": null,
            "height": null,
            "justify_content": null,
            "justify_items": null,
            "left": null,
            "margin": null,
            "max_height": null,
            "max_width": null,
            "min_height": null,
            "min_width": null,
            "object_fit": null,
            "object_position": null,
            "order": null,
            "overflow": null,
            "overflow_x": null,
            "overflow_y": null,
            "padding": null,
            "right": null,
            "top": null,
            "visibility": null,
            "width": null
          }
        },
        "80013ee5e5bf474f955dbfc56b47b9a1": {
          "model_module": "@jupyter-widgets/controls",
          "model_module_version": "1.5.0",
          "model_name": "DescriptionStyleModel",
          "state": {
            "_model_module": "@jupyter-widgets/controls",
            "_model_module_version": "1.5.0",
            "_model_name": "DescriptionStyleModel",
            "_view_count": null,
            "_view_module": "@jupyter-widgets/base",
            "_view_module_version": "1.2.0",
            "_view_name": "StyleView",
            "description_width": ""
          }
        },
        "8430d0bd91b7432293966c33042927cb": {
          "model_module": "@jupyter-widgets/base",
          "model_module_version": "1.2.0",
          "model_name": "LayoutModel",
          "state": {
            "_model_module": "@jupyter-widgets/base",
            "_model_module_version": "1.2.0",
            "_model_name": "LayoutModel",
            "_view_count": null,
            "_view_module": "@jupyter-widgets/base",
            "_view_module_version": "1.2.0",
            "_view_name": "LayoutView",
            "align_content": null,
            "align_items": null,
            "align_self": null,
            "border": null,
            "bottom": null,
            "display": null,
            "flex": null,
            "flex_flow": null,
            "grid_area": null,
            "grid_auto_columns": null,
            "grid_auto_flow": null,
            "grid_auto_rows": null,
            "grid_column": null,
            "grid_gap": null,
            "grid_row": null,
            "grid_template_areas": null,
            "grid_template_columns": null,
            "grid_template_rows": null,
            "height": null,
            "justify_content": null,
            "justify_items": null,
            "left": null,
            "margin": null,
            "max_height": null,
            "max_width": null,
            "min_height": null,
            "min_width": null,
            "object_fit": null,
            "object_position": null,
            "order": null,
            "overflow": null,
            "overflow_x": null,
            "overflow_y": null,
            "padding": null,
            "right": null,
            "top": null,
            "visibility": null,
            "width": null
          }
        },
        "86f3e467741e4df7a31f0906b43b869b": {
          "model_module": "@jupyter-widgets/base",
          "model_module_version": "1.2.0",
          "model_name": "LayoutModel",
          "state": {
            "_model_module": "@jupyter-widgets/base",
            "_model_module_version": "1.2.0",
            "_model_name": "LayoutModel",
            "_view_count": null,
            "_view_module": "@jupyter-widgets/base",
            "_view_module_version": "1.2.0",
            "_view_name": "LayoutView",
            "align_content": null,
            "align_items": null,
            "align_self": null,
            "border": null,
            "bottom": null,
            "display": null,
            "flex": null,
            "flex_flow": null,
            "grid_area": null,
            "grid_auto_columns": null,
            "grid_auto_flow": null,
            "grid_auto_rows": null,
            "grid_column": null,
            "grid_gap": null,
            "grid_row": null,
            "grid_template_areas": null,
            "grid_template_columns": null,
            "grid_template_rows": null,
            "height": null,
            "justify_content": null,
            "justify_items": null,
            "left": null,
            "margin": null,
            "max_height": null,
            "max_width": null,
            "min_height": null,
            "min_width": null,
            "object_fit": null,
            "object_position": null,
            "order": null,
            "overflow": null,
            "overflow_x": null,
            "overflow_y": null,
            "padding": null,
            "right": null,
            "top": null,
            "visibility": null,
            "width": null
          }
        },
        "87f65cd059fc49c6a6c4000f76d45a67": {
          "model_module": "@jupyter-widgets/controls",
          "model_module_version": "1.5.0",
          "model_name": "DescriptionStyleModel",
          "state": {
            "_model_module": "@jupyter-widgets/controls",
            "_model_module_version": "1.5.0",
            "_model_name": "DescriptionStyleModel",
            "_view_count": null,
            "_view_module": "@jupyter-widgets/base",
            "_view_module_version": "1.2.0",
            "_view_name": "StyleView",
            "description_width": ""
          }
        },
        "8e1d8689364340e6a80fbe95b3d19244": {
          "model_module": "@jupyter-widgets/base",
          "model_module_version": "1.2.0",
          "model_name": "LayoutModel",
          "state": {
            "_model_module": "@jupyter-widgets/base",
            "_model_module_version": "1.2.0",
            "_model_name": "LayoutModel",
            "_view_count": null,
            "_view_module": "@jupyter-widgets/base",
            "_view_module_version": "1.2.0",
            "_view_name": "LayoutView",
            "align_content": null,
            "align_items": null,
            "align_self": null,
            "border": null,
            "bottom": null,
            "display": null,
            "flex": null,
            "flex_flow": null,
            "grid_area": null,
            "grid_auto_columns": null,
            "grid_auto_flow": null,
            "grid_auto_rows": null,
            "grid_column": null,
            "grid_gap": null,
            "grid_row": null,
            "grid_template_areas": null,
            "grid_template_columns": null,
            "grid_template_rows": null,
            "height": null,
            "justify_content": null,
            "justify_items": null,
            "left": null,
            "margin": null,
            "max_height": null,
            "max_width": null,
            "min_height": null,
            "min_width": null,
            "object_fit": null,
            "object_position": null,
            "order": null,
            "overflow": null,
            "overflow_x": null,
            "overflow_y": null,
            "padding": null,
            "right": null,
            "top": null,
            "visibility": null,
            "width": "20px"
          }
        },
        "8f8ebebce354455a9fbf3c8b0268adba": {
          "model_module": "@jupyter-widgets/base",
          "model_module_version": "1.2.0",
          "model_name": "LayoutModel",
          "state": {
            "_model_module": "@jupyter-widgets/base",
            "_model_module_version": "1.2.0",
            "_model_name": "LayoutModel",
            "_view_count": null,
            "_view_module": "@jupyter-widgets/base",
            "_view_module_version": "1.2.0",
            "_view_name": "LayoutView",
            "align_content": null,
            "align_items": null,
            "align_self": null,
            "border": null,
            "bottom": null,
            "display": null,
            "flex": null,
            "flex_flow": null,
            "grid_area": null,
            "grid_auto_columns": null,
            "grid_auto_flow": null,
            "grid_auto_rows": null,
            "grid_column": null,
            "grid_gap": null,
            "grid_row": null,
            "grid_template_areas": null,
            "grid_template_columns": null,
            "grid_template_rows": null,
            "height": null,
            "justify_content": null,
            "justify_items": null,
            "left": null,
            "margin": null,
            "max_height": null,
            "max_width": null,
            "min_height": null,
            "min_width": null,
            "object_fit": null,
            "object_position": null,
            "order": null,
            "overflow": null,
            "overflow_x": null,
            "overflow_y": null,
            "padding": null,
            "right": null,
            "top": null,
            "visibility": null,
            "width": null
          }
        },
        "9a889ab67d954caf8b94ea5661ff9569": {
          "model_module": "@jupyter-widgets/base",
          "model_module_version": "1.2.0",
          "model_name": "LayoutModel",
          "state": {
            "_model_module": "@jupyter-widgets/base",
            "_model_module_version": "1.2.0",
            "_model_name": "LayoutModel",
            "_view_count": null,
            "_view_module": "@jupyter-widgets/base",
            "_view_module_version": "1.2.0",
            "_view_name": "LayoutView",
            "align_content": null,
            "align_items": null,
            "align_self": null,
            "border": null,
            "bottom": null,
            "display": null,
            "flex": null,
            "flex_flow": null,
            "grid_area": null,
            "grid_auto_columns": null,
            "grid_auto_flow": null,
            "grid_auto_rows": null,
            "grid_column": null,
            "grid_gap": null,
            "grid_row": null,
            "grid_template_areas": null,
            "grid_template_columns": null,
            "grid_template_rows": null,
            "height": null,
            "justify_content": null,
            "justify_items": null,
            "left": null,
            "margin": null,
            "max_height": null,
            "max_width": null,
            "min_height": null,
            "min_width": null,
            "object_fit": null,
            "object_position": null,
            "order": null,
            "overflow": null,
            "overflow_x": null,
            "overflow_y": null,
            "padding": null,
            "right": null,
            "top": null,
            "visibility": null,
            "width": null
          }
        },
        "9ba9adf694534c4d909b424e126d32d1": {
          "model_module": "@jupyter-widgets/controls",
          "model_module_version": "1.5.0",
          "model_name": "FloatProgressModel",
          "state": {
            "_dom_classes": [],
            "_model_module": "@jupyter-widgets/controls",
            "_model_module_version": "1.5.0",
            "_model_name": "FloatProgressModel",
            "_view_count": null,
            "_view_module": "@jupyter-widgets/controls",
            "_view_module_version": "1.5.0",
            "_view_name": "ProgressView",
            "bar_style": "success",
            "description": "",
            "description_tooltip": null,
            "layout": "IPY_MODEL_8e1d8689364340e6a80fbe95b3d19244",
            "max": 1,
            "min": 0,
            "orientation": "horizontal",
            "style": "IPY_MODEL_d34c5f179a334700ae7fa4b71d5239f9",
            "value": 1
          }
        },
        "a99e1153c0f249a49afef3aec7493544": {
          "model_module": "@jupyter-widgets/base",
          "model_module_version": "1.2.0",
          "model_name": "LayoutModel",
          "state": {
            "_model_module": "@jupyter-widgets/base",
            "_model_module_version": "1.2.0",
            "_model_name": "LayoutModel",
            "_view_count": null,
            "_view_module": "@jupyter-widgets/base",
            "_view_module_version": "1.2.0",
            "_view_name": "LayoutView",
            "align_content": null,
            "align_items": null,
            "align_self": null,
            "border": null,
            "bottom": null,
            "display": null,
            "flex": null,
            "flex_flow": null,
            "grid_area": null,
            "grid_auto_columns": null,
            "grid_auto_flow": null,
            "grid_auto_rows": null,
            "grid_column": null,
            "grid_gap": null,
            "grid_row": null,
            "grid_template_areas": null,
            "grid_template_columns": null,
            "grid_template_rows": null,
            "height": null,
            "justify_content": null,
            "justify_items": null,
            "left": null,
            "margin": null,
            "max_height": null,
            "max_width": null,
            "min_height": null,
            "min_width": null,
            "object_fit": null,
            "object_position": null,
            "order": null,
            "overflow": null,
            "overflow_x": null,
            "overflow_y": null,
            "padding": null,
            "right": null,
            "top": null,
            "visibility": null,
            "width": null
          }
        },
        "b89cd7f64743430f98fccd0a2688af86": {
          "model_module": "@jupyter-widgets/controls",
          "model_module_version": "1.5.0",
          "model_name": "FloatProgressModel",
          "state": {
            "_dom_classes": [],
            "_model_module": "@jupyter-widgets/controls",
            "_model_module_version": "1.5.0",
            "_model_name": "FloatProgressModel",
            "_view_count": null,
            "_view_module": "@jupyter-widgets/controls",
            "_view_module_version": "1.5.0",
            "_view_name": "ProgressView",
            "bar_style": "success",
            "description": "",
            "description_tooltip": null,
            "layout": "IPY_MODEL_14311817768f474aa1cb739d71a7b337",
            "max": 440474434,
            "min": 0,
            "orientation": "horizontal",
            "style": "IPY_MODEL_06f8fe5b734a411da4bc1e1b76a66ab0",
            "value": 440474434
          }
        },
        "b9263b313ea241bfb771db100175a681": {
          "model_module": "@jupyter-widgets/controls",
          "model_module_version": "1.5.0",
          "model_name": "HTMLModel",
          "state": {
            "_dom_classes": [],
            "_model_module": "@jupyter-widgets/controls",
            "_model_module_version": "1.5.0",
            "_model_name": "HTMLModel",
            "_view_count": null,
            "_view_module": "@jupyter-widgets/controls",
            "_view_module_version": "1.5.0",
            "_view_name": "HTMLView",
            "description": "",
            "description_tooltip": null,
            "layout": "IPY_MODEL_a99e1153c0f249a49afef3aec7493544",
            "placeholder": "​",
            "style": "IPY_MODEL_c87a1ab60f0d4ee88f1cf6d7136db919",
            "value": "vocab.txt: "
          }
        },
        "bddc711d1cee46a0a931faff485b0c05": {
          "model_module": "@jupyter-widgets/controls",
          "model_module_version": "1.5.0",
          "model_name": "DescriptionStyleModel",
          "state": {
            "_model_module": "@jupyter-widgets/controls",
            "_model_module_version": "1.5.0",
            "_model_name": "DescriptionStyleModel",
            "_view_count": null,
            "_view_module": "@jupyter-widgets/base",
            "_view_module_version": "1.2.0",
            "_view_name": "StyleView",
            "description_width": ""
          }
        },
        "c87a1ab60f0d4ee88f1cf6d7136db919": {
          "model_module": "@jupyter-widgets/controls",
          "model_module_version": "1.5.0",
          "model_name": "DescriptionStyleModel",
          "state": {
            "_model_module": "@jupyter-widgets/controls",
            "_model_module_version": "1.5.0",
            "_model_name": "DescriptionStyleModel",
            "_view_count": null,
            "_view_module": "@jupyter-widgets/base",
            "_view_module_version": "1.2.0",
            "_view_name": "StyleView",
            "description_width": ""
          }
        },
        "cd8159eac47745a8ae5aa7f84c549548": {
          "model_module": "@jupyter-widgets/base",
          "model_module_version": "1.2.0",
          "model_name": "LayoutModel",
          "state": {
            "_model_module": "@jupyter-widgets/base",
            "_model_module_version": "1.2.0",
            "_model_name": "LayoutModel",
            "_view_count": null,
            "_view_module": "@jupyter-widgets/base",
            "_view_module_version": "1.2.0",
            "_view_name": "LayoutView",
            "align_content": null,
            "align_items": null,
            "align_self": null,
            "border": null,
            "bottom": null,
            "display": null,
            "flex": null,
            "flex_flow": null,
            "grid_area": null,
            "grid_auto_columns": null,
            "grid_auto_flow": null,
            "grid_auto_rows": null,
            "grid_column": null,
            "grid_gap": null,
            "grid_row": null,
            "grid_template_areas": null,
            "grid_template_columns": null,
            "grid_template_rows": null,
            "height": null,
            "justify_content": null,
            "justify_items": null,
            "left": null,
            "margin": null,
            "max_height": null,
            "max_width": null,
            "min_height": null,
            "min_width": null,
            "object_fit": null,
            "object_position": null,
            "order": null,
            "overflow": null,
            "overflow_x": null,
            "overflow_y": null,
            "padding": null,
            "right": null,
            "top": null,
            "visibility": null,
            "width": null
          }
        },
        "cddff120f4ca481a81f1159802175db6": {
          "model_module": "@jupyter-widgets/controls",
          "model_module_version": "1.5.0",
          "model_name": "HTMLModel",
          "state": {
            "_dom_classes": [],
            "_model_module": "@jupyter-widgets/controls",
            "_model_module_version": "1.5.0",
            "_model_name": "HTMLModel",
            "_view_count": null,
            "_view_module": "@jupyter-widgets/controls",
            "_view_module_version": "1.5.0",
            "_view_name": "HTMLView",
            "description": "",
            "description_tooltip": null,
            "layout": "IPY_MODEL_cd8159eac47745a8ae5aa7f84c549548",
            "placeholder": "​",
            "style": "IPY_MODEL_635d799f302347cfa8ab475c9d1633ed",
            "value": " 440M/440M [00:06&lt;00:00, 103MB/s]"
          }
        },
        "d34c5f179a334700ae7fa4b71d5239f9": {
          "model_module": "@jupyter-widgets/controls",
          "model_module_version": "1.5.0",
          "model_name": "ProgressStyleModel",
          "state": {
            "_model_module": "@jupyter-widgets/controls",
            "_model_module_version": "1.5.0",
            "_model_name": "ProgressStyleModel",
            "_view_count": null,
            "_view_module": "@jupyter-widgets/base",
            "_view_module_version": "1.2.0",
            "_view_name": "StyleView",
            "bar_color": null,
            "description_width": ""
          }
        },
        "d3d702eef2864750aa6998029f9e8a15": {
          "model_module": "@jupyter-widgets/controls",
          "model_module_version": "1.5.0",
          "model_name": "ProgressStyleModel",
          "state": {
            "_model_module": "@jupyter-widgets/controls",
            "_model_module_version": "1.5.0",
            "_model_name": "ProgressStyleModel",
            "_view_count": null,
            "_view_module": "@jupyter-widgets/base",
            "_view_module_version": "1.2.0",
            "_view_name": "StyleView",
            "bar_color": null,
            "description_width": ""
          }
        },
        "e39e453238894a9291447319df58dc4d": {
          "model_module": "@jupyter-widgets/base",
          "model_module_version": "1.2.0",
          "model_name": "LayoutModel",
          "state": {
            "_model_module": "@jupyter-widgets/base",
            "_model_module_version": "1.2.0",
            "_model_name": "LayoutModel",
            "_view_count": null,
            "_view_module": "@jupyter-widgets/base",
            "_view_module_version": "1.2.0",
            "_view_name": "LayoutView",
            "align_content": null,
            "align_items": null,
            "align_self": null,
            "border": null,
            "bottom": null,
            "display": null,
            "flex": null,
            "flex_flow": null,
            "grid_area": null,
            "grid_auto_columns": null,
            "grid_auto_flow": null,
            "grid_auto_rows": null,
            "grid_column": null,
            "grid_gap": null,
            "grid_row": null,
            "grid_template_areas": null,
            "grid_template_columns": null,
            "grid_template_rows": null,
            "height": null,
            "justify_content": null,
            "justify_items": null,
            "left": null,
            "margin": null,
            "max_height": null,
            "max_width": null,
            "min_height": null,
            "min_width": null,
            "object_fit": null,
            "object_position": null,
            "order": null,
            "overflow": null,
            "overflow_x": null,
            "overflow_y": null,
            "padding": null,
            "right": null,
            "top": null,
            "visibility": null,
            "width": null
          }
        },
        "e64ddf7d511e491ea2e6b9e2bbaa1401": {
          "model_module": "@jupyter-widgets/controls",
          "model_module_version": "1.5.0",
          "model_name": "DescriptionStyleModel",
          "state": {
            "_model_module": "@jupyter-widgets/controls",
            "_model_module_version": "1.5.0",
            "_model_name": "DescriptionStyleModel",
            "_view_count": null,
            "_view_module": "@jupyter-widgets/base",
            "_view_module_version": "1.2.0",
            "_view_name": "StyleView",
            "description_width": ""
          }
        },
        "eaadec11ec294335bb7be944d1ce9909": {
          "model_module": "@jupyter-widgets/base",
          "model_module_version": "1.2.0",
          "model_name": "LayoutModel",
          "state": {
            "_model_module": "@jupyter-widgets/base",
            "_model_module_version": "1.2.0",
            "_model_name": "LayoutModel",
            "_view_count": null,
            "_view_module": "@jupyter-widgets/base",
            "_view_module_version": "1.2.0",
            "_view_name": "LayoutView",
            "align_content": null,
            "align_items": null,
            "align_self": null,
            "border": null,
            "bottom": null,
            "display": null,
            "flex": null,
            "flex_flow": null,
            "grid_area": null,
            "grid_auto_columns": null,
            "grid_auto_flow": null,
            "grid_auto_rows": null,
            "grid_column": null,
            "grid_gap": null,
            "grid_row": null,
            "grid_template_areas": null,
            "grid_template_columns": null,
            "grid_template_rows": null,
            "height": null,
            "justify_content": null,
            "justify_items": null,
            "left": null,
            "margin": null,
            "max_height": null,
            "max_width": null,
            "min_height": null,
            "min_width": null,
            "object_fit": null,
            "object_position": null,
            "order": null,
            "overflow": null,
            "overflow_x": null,
            "overflow_y": null,
            "padding": null,
            "right": null,
            "top": null,
            "visibility": null,
            "width": null
          }
        },
        "fc9735be30334fcd89a15078cfb08c16": {
          "model_module": "@jupyter-widgets/controls",
          "model_module_version": "1.5.0",
          "model_name": "HTMLModel",
          "state": {
            "_dom_classes": [],
            "_model_module": "@jupyter-widgets/controls",
            "_model_module_version": "1.5.0",
            "_model_name": "HTMLModel",
            "_view_count": null,
            "_view_module": "@jupyter-widgets/controls",
            "_view_module_version": "1.5.0",
            "_view_name": "HTMLView",
            "description": "",
            "description_tooltip": null,
            "layout": "IPY_MODEL_6bd986b27c954494aef5ea1f52704488",
            "placeholder": "​",
            "style": "IPY_MODEL_80013ee5e5bf474f955dbfc56b47b9a1",
            "value": "pytorch_model.bin: 100%"
          }
        }
      }
    }
  },
  "nbformat": 4,
  "nbformat_minor": 5
}
